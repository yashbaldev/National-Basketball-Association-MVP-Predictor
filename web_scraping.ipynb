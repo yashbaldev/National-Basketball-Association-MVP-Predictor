{
 "cells": [
  {
   "cell_type": "code",
   "execution_count": 1,
   "id": "11d0d89e-f6d0-401f-9b8f-32d91c9aed2c",
   "metadata": {
    "tags": []
   },
   "outputs": [
    {
     "name": "stdout",
     "output_type": "stream",
     "text": [
      "Requirement already satisfied: requests in c:\\users\\yash baldev\\anaconda3\\lib\\site-packages (2.31.0)\n",
      "Requirement already satisfied: charset-normalizer<4,>=2 in c:\\users\\yash baldev\\anaconda3\\lib\\site-packages (from requests) (2.0.4)\n",
      "Requirement already satisfied: idna<4,>=2.5 in c:\\users\\yash baldev\\anaconda3\\lib\\site-packages (from requests) (3.4)\n",
      "Requirement already satisfied: urllib3<3,>=1.21.1 in c:\\users\\yash baldev\\anaconda3\\lib\\site-packages (from requests) (1.26.16)\n",
      "Requirement already satisfied: certifi>=2017.4.17 in c:\\users\\yash baldev\\anaconda3\\lib\\site-packages (from requests) (2023.7.22)\n"
     ]
    }
   ],
   "source": [
    "!pip install requests"
   ]
  },
  {
   "cell_type": "code",
   "execution_count": 5,
   "id": "a5c03943-9ffb-4f0e-982f-036657a01f2a",
   "metadata": {
    "tags": []
   },
   "outputs": [],
   "source": [
    "years=list(range(1991,2025))"
   ]
  },
  {
   "cell_type": "code",
   "execution_count": 6,
   "id": "2baf35b8-3bee-4b4b-a442-485e0921ec36",
   "metadata": {
    "tags": []
   },
   "outputs": [],
   "source": [
    "url_start=\"https://www.basketball-reference.com/awards/awards_{}.html\""
   ]
  },
  {
   "cell_type": "code",
   "execution_count": 8,
   "id": "b9c14b4b-cfba-4449-84a2-f97a26185bd8",
   "metadata": {
    "tags": []
   },
   "outputs": [
    {
     "name": "stderr",
     "output_type": "stream",
     "text": [
      "\n",
      "KeyboardInterrupt\n",
      "\n"
     ]
    }
   ],
   "source": [
    "import requests\n",
    "for year in years:\n",
    "    url=url_start.format(year)\n",
    "    data=requests.get(url)\n",
    "    with open(\"mvp/{}.html\".format(year),\"w+\",encoding=\"utf-8\") as f:\n",
    "        f.write(data.text)"
   ]
  },
  {
   "cell_type": "code",
   "execution_count": 7,
   "id": "c93b0805-d7a4-4a40-87d9-25e40c2828ae",
   "metadata": {
    "tags": []
   },
   "outputs": [
    {
     "name": "stdout",
     "output_type": "stream",
     "text": [
      "Requirement already satisfied: beautifulsoup4 in c:\\users\\yash baldev\\anaconda3\\lib\\site-packages (4.12.2)\n",
      "Requirement already satisfied: soupsieve>1.2 in c:\\users\\yash baldev\\anaconda3\\lib\\site-packages (from beautifulsoup4) (2.4)\n"
     ]
    }
   ],
   "source": [
    "!pip install beautifulsoup4"
   ]
  },
  {
   "cell_type": "code",
   "execution_count": 9,
   "id": "96529b3d-63f1-4306-a944-26388c9c96ef",
   "metadata": {
    "tags": []
   },
   "outputs": [],
   "source": [
    "from bs4 import BeautifulSoup"
   ]
  },
  {
   "cell_type": "code",
   "execution_count": 10,
   "id": "8f381bb0-6ae3-451f-b7c3-5b58bc2f2214",
   "metadata": {
    "tags": []
   },
   "outputs": [],
   "source": [
    "import pandas as pd"
   ]
  },
  {
   "cell_type": "code",
   "execution_count": 27,
   "id": "754af6ff-1e53-40df-a3b2-4576bf5bc4a6",
   "metadata": {
    "tags": []
   },
   "outputs": [],
   "source": [
    "dfs=[]\n",
    "for year in years:\n",
    "    with open(f\"mvp/{year}.html\",encoding=\"utf-8\") as f:\n",
    "            page=f.read()\n",
    "    soup=BeautifulSoup(page,\"html.parser\")\n",
    "    soup.find('tr',class_=\"over_header\").decompose()\n",
    "    mvp_table=soup.find(id=\"mvp\")\n",
    "    mvp=pd.read_html(str(mvp_table))[0]\n",
    "    mvp[\"Year\"]=year\n",
    "    dfs.append(mvp)\n"
   ]
  },
  {
   "cell_type": "code",
   "execution_count": 28,
   "id": "771244e7-8b3d-4c24-a735-7ab12b834797",
   "metadata": {
    "tags": []
   },
   "outputs": [],
   "source": [
    "mvps=pd.concat(dfs)"
   ]
  },
  {
   "cell_type": "code",
   "execution_count": 38,
   "id": "f1c7a3ae-8cdb-4031-baf9-f9fea696c296",
   "metadata": {
    "tags": []
   },
   "outputs": [
    {
     "data": {
      "text/html": [
       "<div>\n",
       "<style scoped>\n",
       "    .dataframe tbody tr th:only-of-type {\n",
       "        vertical-align: middle;\n",
       "    }\n",
       "\n",
       "    .dataframe tbody tr th {\n",
       "        vertical-align: top;\n",
       "    }\n",
       "\n",
       "    .dataframe thead th {\n",
       "        text-align: right;\n",
       "    }\n",
       "</style>\n",
       "<table border=\"1\" class=\"dataframe\">\n",
       "  <thead>\n",
       "    <tr style=\"text-align: right;\">\n",
       "      <th></th>\n",
       "      <th>Rank</th>\n",
       "      <th>Player</th>\n",
       "      <th>Age</th>\n",
       "      <th>Tm</th>\n",
       "      <th>First</th>\n",
       "      <th>Pts Won</th>\n",
       "      <th>Pts Max</th>\n",
       "      <th>Share</th>\n",
       "      <th>G</th>\n",
       "      <th>MP</th>\n",
       "      <th>PTS</th>\n",
       "      <th>TRB</th>\n",
       "      <th>AST</th>\n",
       "      <th>STL</th>\n",
       "      <th>BLK</th>\n",
       "      <th>FG%</th>\n",
       "      <th>3P%</th>\n",
       "      <th>FT%</th>\n",
       "      <th>WS</th>\n",
       "      <th>WS/48</th>\n",
       "    </tr>\n",
       "  </thead>\n",
       "  <tbody>\n",
       "    <tr>\n",
       "      <th>0</th>\n",
       "      <td>1</td>\n",
       "      <td>Michael Jordan</td>\n",
       "      <td>27</td>\n",
       "      <td>CHI</td>\n",
       "      <td>77</td>\n",
       "      <td>891</td>\n",
       "      <td>960</td>\n",
       "      <td>0.928</td>\n",
       "      <td>82</td>\n",
       "      <td>37.0</td>\n",
       "      <td>31.5</td>\n",
       "      <td>6.0</td>\n",
       "      <td>5.5</td>\n",
       "      <td>2.7</td>\n",
       "      <td>1.0</td>\n",
       "      <td>0.539</td>\n",
       "      <td>0.312</td>\n",
       "      <td>0.851</td>\n",
       "      <td>20.3</td>\n",
       "      <td>0.321</td>\n",
       "    </tr>\n",
       "    <tr>\n",
       "      <th>1</th>\n",
       "      <td>2</td>\n",
       "      <td>Magic Johnson</td>\n",
       "      <td>31</td>\n",
       "      <td>LAL</td>\n",
       "      <td>10</td>\n",
       "      <td>497</td>\n",
       "      <td>960</td>\n",
       "      <td>0.518</td>\n",
       "      <td>79</td>\n",
       "      <td>37.1</td>\n",
       "      <td>19.4</td>\n",
       "      <td>7.0</td>\n",
       "      <td>12.5</td>\n",
       "      <td>1.3</td>\n",
       "      <td>0.2</td>\n",
       "      <td>0.477</td>\n",
       "      <td>0.320</td>\n",
       "      <td>0.906</td>\n",
       "      <td>15.4</td>\n",
       "      <td>0.251</td>\n",
       "    </tr>\n",
       "    <tr>\n",
       "      <th>2</th>\n",
       "      <td>3</td>\n",
       "      <td>David Robinson</td>\n",
       "      <td>25</td>\n",
       "      <td>SAS</td>\n",
       "      <td>6</td>\n",
       "      <td>476</td>\n",
       "      <td>960</td>\n",
       "      <td>0.496</td>\n",
       "      <td>82</td>\n",
       "      <td>37.7</td>\n",
       "      <td>25.6</td>\n",
       "      <td>13.0</td>\n",
       "      <td>2.5</td>\n",
       "      <td>1.5</td>\n",
       "      <td>3.9</td>\n",
       "      <td>0.552</td>\n",
       "      <td>0.143</td>\n",
       "      <td>0.762</td>\n",
       "      <td>17.0</td>\n",
       "      <td>0.264</td>\n",
       "    </tr>\n",
       "    <tr>\n",
       "      <th>3</th>\n",
       "      <td>4</td>\n",
       "      <td>Charles Barkley</td>\n",
       "      <td>27</td>\n",
       "      <td>PHI</td>\n",
       "      <td>2</td>\n",
       "      <td>222</td>\n",
       "      <td>960</td>\n",
       "      <td>0.231</td>\n",
       "      <td>67</td>\n",
       "      <td>37.3</td>\n",
       "      <td>27.6</td>\n",
       "      <td>10.1</td>\n",
       "      <td>4.2</td>\n",
       "      <td>1.6</td>\n",
       "      <td>0.5</td>\n",
       "      <td>0.570</td>\n",
       "      <td>0.284</td>\n",
       "      <td>0.722</td>\n",
       "      <td>13.4</td>\n",
       "      <td>0.258</td>\n",
       "    </tr>\n",
       "    <tr>\n",
       "      <th>4</th>\n",
       "      <td>5</td>\n",
       "      <td>Karl Malone</td>\n",
       "      <td>27</td>\n",
       "      <td>UTA</td>\n",
       "      <td>0</td>\n",
       "      <td>142</td>\n",
       "      <td>960</td>\n",
       "      <td>0.148</td>\n",
       "      <td>82</td>\n",
       "      <td>40.3</td>\n",
       "      <td>29.0</td>\n",
       "      <td>11.8</td>\n",
       "      <td>3.3</td>\n",
       "      <td>1.1</td>\n",
       "      <td>1.0</td>\n",
       "      <td>0.527</td>\n",
       "      <td>0.286</td>\n",
       "      <td>0.770</td>\n",
       "      <td>15.5</td>\n",
       "      <td>0.225</td>\n",
       "    </tr>\n",
       "  </tbody>\n",
       "</table>\n",
       "</div>"
      ],
      "text/plain": [
       "  Rank           Player  Age   Tm  First  Pts Won  Pts Max  Share   G    MP  \\\n",
       "0    1   Michael Jordan   27  CHI     77      891      960  0.928  82  37.0   \n",
       "1    2    Magic Johnson   31  LAL     10      497      960  0.518  79  37.1   \n",
       "2    3   David Robinson   25  SAS      6      476      960  0.496  82  37.7   \n",
       "3    4  Charles Barkley   27  PHI      2      222      960  0.231  67  37.3   \n",
       "4    5      Karl Malone   27  UTA      0      142      960  0.148  82  40.3   \n",
       "\n",
       "    PTS   TRB   AST  STL  BLK    FG%    3P%    FT%    WS  WS/48  \n",
       "0  31.5   6.0   5.5  2.7  1.0  0.539  0.312  0.851  20.3  0.321  \n",
       "1  19.4   7.0  12.5  1.3  0.2  0.477  0.320  0.906  15.4  0.251  \n",
       "2  25.6  13.0   2.5  1.5  3.9  0.552  0.143  0.762  17.0  0.264  \n",
       "3  27.6  10.1   4.2  1.6  0.5  0.570  0.284  0.722  13.4  0.258  \n",
       "4  29.0  11.8   3.3  1.1  1.0  0.527  0.286  0.770  15.5  0.225  "
      ]
     },
     "execution_count": 38,
     "metadata": {},
     "output_type": "execute_result"
    }
   ],
   "source": [
    "mvps.head()"
   ]
  },
  {
   "cell_type": "code",
   "execution_count": 29,
   "id": "08a1fb3b-bd8e-4a2c-9c3e-4311e27113d3",
   "metadata": {
    "tags": []
   },
   "outputs": [],
   "source": [
    "mvps.to_csv(\"mvps.csv\")"
   ]
  },
  {
   "cell_type": "code",
   "execution_count": 12,
   "id": "cb6a7726-f2f3-4366-bbc8-31c9feeeae83",
   "metadata": {
    "tags": []
   },
   "outputs": [],
   "source": [
    "player_stats_url=\"https://www.basketball-reference.com/leagues/NBA_{}_per_game.html\"\n",
    "\n",
    "url=player_stats_url.format(1991)\n",
    "data=requests.get(url)\n",
    "with open(\"player/1991.html\",\"w+\",encoding=\"utf-8\")as f:\n",
    "    f.write(data.text)\n"
   ]
  },
  {
   "cell_type": "code",
   "execution_count": 43,
   "id": "930722d1-7152-43b7-b14f-d6c76be251f9",
   "metadata": {
    "tags": []
   },
   "outputs": [
    {
     "name": "stdout",
     "output_type": "stream",
     "text": [
      "Collecting selenium\n",
      "  Obtaining dependency information for selenium from https://files.pythonhosted.org/packages/f2/7d/3a0b9c229d87a189b64c3b8e6d87a970a1ef7875995dc31bd18e65fa1c17/selenium-4.22.0-py3-none-any.whl.metadata\n",
      "  Downloading selenium-4.22.0-py3-none-any.whl.metadata (7.0 kB)\n",
      "Requirement already satisfied: urllib3[socks]<3,>=1.26 in c:\\users\\yash baldev\\anaconda3\\lib\\site-packages (from selenium) (1.26.16)\n",
      "Collecting trio~=0.17 (from selenium)\n",
      "  Obtaining dependency information for trio~=0.17 from https://files.pythonhosted.org/packages/76/51/12d78ec8abcbda51d8f115d98ebd3ee3da9d9d9af00ac69d3097c5b8d51a/trio-0.25.1-py3-none-any.whl.metadata\n",
      "  Downloading trio-0.25.1-py3-none-any.whl.metadata (8.7 kB)\n",
      "Collecting trio-websocket~=0.9 (from selenium)\n",
      "  Obtaining dependency information for trio-websocket~=0.9 from https://files.pythonhosted.org/packages/48/be/a9ae5f50cad5b6f85bd2574c2c923730098530096e170c1ce7452394d7aa/trio_websocket-0.11.1-py3-none-any.whl.metadata\n",
      "  Downloading trio_websocket-0.11.1-py3-none-any.whl.metadata (4.7 kB)\n",
      "Requirement already satisfied: certifi>=2021.10.8 in c:\\users\\yash baldev\\anaconda3\\lib\\site-packages (from selenium) (2023.7.22)\n",
      "Collecting typing_extensions>=4.9.0 (from selenium)\n",
      "  Obtaining dependency information for typing_extensions>=4.9.0 from https://files.pythonhosted.org/packages/26/9f/ad63fc0248c5379346306f8668cda6e2e2e9c95e01216d2b8ffd9ff037d0/typing_extensions-4.12.2-py3-none-any.whl.metadata\n",
      "  Downloading typing_extensions-4.12.2-py3-none-any.whl.metadata (3.0 kB)\n",
      "Collecting websocket-client>=1.8.0 (from selenium)\n",
      "  Obtaining dependency information for websocket-client>=1.8.0 from https://files.pythonhosted.org/packages/5a/84/44687a29792a70e111c5c477230a72c4b957d88d16141199bf9acb7537a3/websocket_client-1.8.0-py3-none-any.whl.metadata\n",
      "  Downloading websocket_client-1.8.0-py3-none-any.whl.metadata (8.0 kB)\n",
      "Collecting attrs>=23.2.0 (from trio~=0.17->selenium)\n",
      "  Obtaining dependency information for attrs>=23.2.0 from https://files.pythonhosted.org/packages/e0/44/827b2a91a5816512fcaf3cc4ebc465ccd5d598c45cefa6703fcf4a79018f/attrs-23.2.0-py3-none-any.whl.metadata\n",
      "  Downloading attrs-23.2.0-py3-none-any.whl.metadata (9.5 kB)\n",
      "Requirement already satisfied: sortedcontainers in c:\\users\\yash baldev\\anaconda3\\lib\\site-packages (from trio~=0.17->selenium) (2.4.0)\n",
      "Requirement already satisfied: idna in c:\\users\\yash baldev\\anaconda3\\lib\\site-packages (from trio~=0.17->selenium) (3.4)\n",
      "Collecting outcome (from trio~=0.17->selenium)\n",
      "  Obtaining dependency information for outcome from https://files.pythonhosted.org/packages/55/8b/5ab7257531a5d830fc8000c476e63c935488d74609b50f9384a643ec0a62/outcome-1.3.0.post0-py2.py3-none-any.whl.metadata\n",
      "  Downloading outcome-1.3.0.post0-py2.py3-none-any.whl.metadata (2.6 kB)\n",
      "Collecting sniffio>=1.3.0 (from trio~=0.17->selenium)\n",
      "  Obtaining dependency information for sniffio>=1.3.0 from https://files.pythonhosted.org/packages/e9/44/75a9c9421471a6c4805dbf2356f7c181a29c1879239abab1ea2cc8f38b40/sniffio-1.3.1-py3-none-any.whl.metadata\n",
      "  Downloading sniffio-1.3.1-py3-none-any.whl.metadata (3.9 kB)\n",
      "Requirement already satisfied: cffi>=1.14 in c:\\users\\yash baldev\\anaconda3\\lib\\site-packages (from trio~=0.17->selenium) (1.15.1)\n",
      "Collecting wsproto>=0.14 (from trio-websocket~=0.9->selenium)\n",
      "  Obtaining dependency information for wsproto>=0.14 from https://files.pythonhosted.org/packages/78/58/e860788190eba3bcce367f74d29c4675466ce8dddfba85f7827588416f01/wsproto-1.2.0-py3-none-any.whl.metadata\n",
      "  Downloading wsproto-1.2.0-py3-none-any.whl.metadata (5.6 kB)\n",
      "Requirement already satisfied: PySocks!=1.5.7,<2.0,>=1.5.6 in c:\\users\\yash baldev\\anaconda3\\lib\\site-packages (from urllib3[socks]<3,>=1.26->selenium) (1.7.1)\n",
      "Requirement already satisfied: pycparser in c:\\users\\yash baldev\\anaconda3\\lib\\site-packages (from cffi>=1.14->trio~=0.17->selenium) (2.21)\n",
      "Collecting h11<1,>=0.9.0 (from wsproto>=0.14->trio-websocket~=0.9->selenium)\n",
      "  Obtaining dependency information for h11<1,>=0.9.0 from https://files.pythonhosted.org/packages/95/04/ff642e65ad6b90db43e668d70ffb6736436c7ce41fcc549f4e9472234127/h11-0.14.0-py3-none-any.whl.metadata\n",
      "  Downloading h11-0.14.0-py3-none-any.whl.metadata (8.2 kB)\n",
      "Downloading selenium-4.22.0-py3-none-any.whl (9.4 MB)\n",
      "   ---------------------------------------- 0.0/9.4 MB ? eta -:--:--\n",
      "   ---------------------------------------- 0.1/9.4 MB 3.2 MB/s eta 0:00:03\n",
      "    --------------------------------------- 0.2/9.4 MB 3.1 MB/s eta 0:00:03\n",
      "    --------------------------------------- 0.2/9.4 MB 3.1 MB/s eta 0:00:03\n",
      "    --------------------------------------- 0.2/9.4 MB 3.1 MB/s eta 0:00:03\n",
      "    --------------------------------------- 0.2/9.4 MB 3.1 MB/s eta 0:00:03\n",
      "   - -------------------------------------- 0.2/9.4 MB 1.0 MB/s eta 0:00:10\n",
      "   - -------------------------------------- 0.3/9.4 MB 871.5 kB/s eta 0:00:11\n",
      "   - -------------------------------------- 0.3/9.4 MB 871.5 kB/s eta 0:00:11\n",
      "   - -------------------------------------- 0.3/9.4 MB 768.0 kB/s eta 0:00:12\n",
      "   - -------------------------------------- 0.3/9.4 MB 703.7 kB/s eta 0:00:13\n",
      "   - -------------------------------------- 0.4/9.4 MB 742.3 kB/s eta 0:00:13\n",
      "   - -------------------------------------- 0.4/9.4 MB 734.3 kB/s eta 0:00:13\n",
      "   - -------------------------------------- 0.5/9.4 MB 797.2 kB/s eta 0:00:12\n",
      "   -- ------------------------------------- 0.6/9.4 MB 917.5 kB/s eta 0:00:10\n",
      "   -- ------------------------------------- 0.6/9.4 MB 974.5 kB/s eta 0:00:10\n",
      "   --- ------------------------------------ 0.8/9.4 MB 1.1 MB/s eta 0:00:08\n",
      "   --- ------------------------------------ 0.9/9.4 MB 1.1 MB/s eta 0:00:08\n",
      "   ---- ----------------------------------- 1.0/9.4 MB 1.2 MB/s eta 0:00:08\n",
      "   ---- ----------------------------------- 1.1/9.4 MB 1.3 MB/s eta 0:00:07\n",
      "   ----- ---------------------------------- 1.2/9.4 MB 1.3 MB/s eta 0:00:07\n",
      "   ----- ---------------------------------- 1.3/9.4 MB 1.4 MB/s eta 0:00:06\n",
      "   ------ --------------------------------- 1.5/9.4 MB 1.5 MB/s eta 0:00:06\n",
      "   ------ --------------------------------- 1.6/9.4 MB 1.5 MB/s eta 0:00:06\n",
      "   ------ --------------------------------- 1.6/9.4 MB 1.5 MB/s eta 0:00:06\n",
      "   ------ --------------------------------- 1.6/9.4 MB 1.5 MB/s eta 0:00:06\n",
      "   ------ --------------------------------- 1.6/9.4 MB 1.4 MB/s eta 0:00:06\n",
      "   ------ --------------------------------- 1.6/9.4 MB 1.4 MB/s eta 0:00:06\n",
      "   ------ --------------------------------- 1.6/9.4 MB 1.4 MB/s eta 0:00:06\n",
      "   ------- -------------------------------- 1.7/9.4 MB 1.3 MB/s eta 0:00:07\n",
      "   ------- -------------------------------- 1.7/9.4 MB 1.2 MB/s eta 0:00:07\n",
      "   ------- -------------------------------- 1.7/9.4 MB 1.2 MB/s eta 0:00:07\n",
      "   ------- -------------------------------- 1.7/9.4 MB 1.2 MB/s eta 0:00:07\n",
      "   ------- -------------------------------- 1.7/9.4 MB 1.1 MB/s eta 0:00:07\n",
      "   ------- -------------------------------- 1.8/9.4 MB 1.1 MB/s eta 0:00:07\n",
      "   ------- -------------------------------- 1.8/9.4 MB 1.1 MB/s eta 0:00:07\n",
      "   -------- ------------------------------- 1.9/9.4 MB 1.2 MB/s eta 0:00:07\n",
      "   -------- ------------------------------- 2.0/9.4 MB 1.2 MB/s eta 0:00:07\n",
      "   -------- ------------------------------- 2.1/9.4 MB 1.2 MB/s eta 0:00:07\n",
      "   --------- ------------------------------ 2.2/9.4 MB 1.2 MB/s eta 0:00:06\n",
      "   --------- ------------------------------ 2.3/9.4 MB 1.3 MB/s eta 0:00:06\n",
      "   ---------- ----------------------------- 2.4/9.4 MB 1.3 MB/s eta 0:00:06\n",
      "   ---------- ----------------------------- 2.5/9.4 MB 1.3 MB/s eta 0:00:06\n",
      "   ---------- ----------------------------- 2.5/9.4 MB 1.3 MB/s eta 0:00:06\n",
      "   ---------- ----------------------------- 2.6/9.4 MB 1.3 MB/s eta 0:00:06\n",
      "   ----------- ---------------------------- 2.6/9.4 MB 1.3 MB/s eta 0:00:06\n",
      "   ----------- ---------------------------- 2.7/9.4 MB 1.3 MB/s eta 0:00:06\n",
      "   ----------- ---------------------------- 2.7/9.4 MB 1.3 MB/s eta 0:00:06\n",
      "   ----------- ---------------------------- 2.7/9.4 MB 1.2 MB/s eta 0:00:06\n",
      "   ----------- ---------------------------- 2.7/9.4 MB 1.2 MB/s eta 0:00:06\n",
      "   ----------- ---------------------------- 2.7/9.4 MB 1.2 MB/s eta 0:00:06\n",
      "   ----------- ---------------------------- 2.7/9.4 MB 1.2 MB/s eta 0:00:06\n",
      "   ----------- ---------------------------- 2.7/9.4 MB 1.2 MB/s eta 0:00:06\n",
      "   ----------- ---------------------------- 2.7/9.4 MB 1.2 MB/s eta 0:00:06\n",
      "   ----------- ---------------------------- 2.7/9.4 MB 1.2 MB/s eta 0:00:06\n",
      "   ----------- ---------------------------- 2.7/9.4 MB 1.1 MB/s eta 0:00:07\n",
      "   ----------- ---------------------------- 2.7/9.4 MB 1.1 MB/s eta 0:00:07\n",
      "   ----------- ---------------------------- 2.8/9.4 MB 1.0 MB/s eta 0:00:07\n",
      "   ----------- ---------------------------- 2.8/9.4 MB 1.0 MB/s eta 0:00:07\n",
      "   ----------- ---------------------------- 2.8/9.4 MB 1.0 MB/s eta 0:00:07\n",
      "   ------------ --------------------------- 2.9/9.4 MB 1.0 MB/s eta 0:00:07\n",
      "   ------------ --------------------------- 3.0/9.4 MB 1.0 MB/s eta 0:00:07\n",
      "   ------------ --------------------------- 3.0/9.4 MB 1.1 MB/s eta 0:00:07\n",
      "   ------------- -------------------------- 3.1/9.4 MB 1.1 MB/s eta 0:00:06\n",
      "   ------------- -------------------------- 3.2/9.4 MB 1.1 MB/s eta 0:00:06\n",
      "   ------------- -------------------------- 3.3/9.4 MB 1.1 MB/s eta 0:00:06\n",
      "   -------------- ------------------------- 3.3/9.4 MB 1.1 MB/s eta 0:00:06\n",
      "   -------------- ------------------------- 3.4/9.4 MB 1.1 MB/s eta 0:00:06\n",
      "   -------------- ------------------------- 3.4/9.4 MB 1.1 MB/s eta 0:00:06\n",
      "   -------------- ------------------------- 3.4/9.4 MB 1.1 MB/s eta 0:00:06\n",
      "   -------------- ------------------------- 3.4/9.4 MB 1.1 MB/s eta 0:00:06\n",
      "   -------------- ------------------------- 3.4/9.4 MB 1.1 MB/s eta 0:00:06\n",
      "   -------------- ------------------------- 3.4/9.4 MB 1.1 MB/s eta 0:00:06\n",
      "   -------------- ------------------------- 3.4/9.4 MB 1.1 MB/s eta 0:00:06\n",
      "   -------------- ------------------------- 3.4/9.4 MB 1.0 MB/s eta 0:00:06\n",
      "   -------------- ------------------------- 3.5/9.4 MB 996.4 kB/s eta 0:00:07\n",
      "   -------------- ------------------------- 3.5/9.4 MB 988.9 kB/s eta 0:00:07\n",
      "   -------------- ------------------------- 3.5/9.4 MB 980.0 kB/s eta 0:00:07\n",
      "   -------------- ------------------------- 3.5/9.4 MB 972.9 kB/s eta 0:00:07\n",
      "   --------------- ------------------------ 3.6/9.4 MB 968.8 kB/s eta 0:00:07\n",
      "   --------------- ------------------------ 3.6/9.4 MB 974.7 kB/s eta 0:00:06\n",
      "   --------------- ------------------------ 3.7/9.4 MB 976.1 kB/s eta 0:00:06\n",
      "   --------------- ------------------------ 3.7/9.4 MB 974.9 kB/s eta 0:00:06\n",
      "   ---------------- ----------------------- 3.8/9.4 MB 980.3 kB/s eta 0:00:06\n",
      "   ---------------- ----------------------- 3.9/9.4 MB 986.9 kB/s eta 0:00:06\n",
      "   ---------------- ----------------------- 3.9/9.4 MB 979.2 kB/s eta 0:00:06\n",
      "   ---------------- ----------------------- 3.9/9.4 MB 984.2 kB/s eta 0:00:06\n",
      "   ---------------- ----------------------- 4.0/9.4 MB 980.3 kB/s eta 0:00:06\n",
      "   ----------------- ---------------------- 4.0/9.4 MB 978.0 kB/s eta 0:00:06\n",
      "   ----------------- ---------------------- 4.1/9.4 MB 981.7 kB/s eta 0:00:06\n",
      "   ----------------- ---------------------- 4.1/9.4 MB 985.4 kB/s eta 0:00:06\n",
      "   ----------------- ---------------------- 4.2/9.4 MB 991.4 kB/s eta 0:00:06\n",
      "   ------------------ --------------------- 4.3/9.4 MB 998.6 kB/s eta 0:00:06\n",
      "   ------------------ --------------------- 4.4/9.4 MB 1.0 MB/s eta 0:00:06\n",
      "   ------------------ --------------------- 4.4/9.4 MB 1.0 MB/s eta 0:00:05\n",
      "   ------------------ --------------------- 4.5/9.4 MB 1.0 MB/s eta 0:00:05\n",
      "   ------------------ --------------------- 4.5/9.4 MB 1.0 MB/s eta 0:00:05\n",
      "   ------------------- -------------------- 4.5/9.4 MB 1.0 MB/s eta 0:00:05\n",
      "   ------------------- -------------------- 4.6/9.4 MB 1.0 MB/s eta 0:00:05\n",
      "   ------------------- -------------------- 4.7/9.4 MB 1.0 MB/s eta 0:00:05\n",
      "   ------------------- -------------------- 4.7/9.4 MB 1.0 MB/s eta 0:00:05\n",
      "   -------------------- ------------------- 4.8/9.4 MB 1.0 MB/s eta 0:00:05\n",
      "   -------------------- ------------------- 4.8/9.4 MB 1.0 MB/s eta 0:00:05\n",
      "   -------------------- ------------------- 4.9/9.4 MB 1.0 MB/s eta 0:00:05\n",
      "   --------------------- ------------------ 5.0/9.4 MB 1.0 MB/s eta 0:00:05\n",
      "   --------------------- ------------------ 5.1/9.4 MB 1.0 MB/s eta 0:00:05\n",
      "   --------------------- ------------------ 5.2/9.4 MB 1.0 MB/s eta 0:00:05\n",
      "   ---------------------- ----------------- 5.2/9.4 MB 1.0 MB/s eta 0:00:04\n",
      "   ---------------------- ----------------- 5.3/9.4 MB 1.1 MB/s eta 0:00:04\n",
      "   ---------------------- ----------------- 5.4/9.4 MB 1.1 MB/s eta 0:00:04\n",
      "   ---------------------- ----------------- 5.4/9.4 MB 1.1 MB/s eta 0:00:04\n",
      "   ----------------------- ---------------- 5.5/9.4 MB 1.1 MB/s eta 0:00:04\n",
      "   ----------------------- ---------------- 5.6/9.4 MB 1.1 MB/s eta 0:00:04\n",
      "   ----------------------- ---------------- 5.6/9.4 MB 1.1 MB/s eta 0:00:04\n",
      "   ------------------------ --------------- 5.7/9.4 MB 1.1 MB/s eta 0:00:04\n",
      "   ------------------------ --------------- 5.8/9.4 MB 1.1 MB/s eta 0:00:04\n",
      "   ------------------------ --------------- 5.9/9.4 MB 1.1 MB/s eta 0:00:04\n",
      "   ------------------------- -------------- 5.9/9.4 MB 1.1 MB/s eta 0:00:04\n",
      "   ------------------------- -------------- 6.0/9.4 MB 1.1 MB/s eta 0:00:04\n",
      "   ------------------------- -------------- 6.0/9.4 MB 1.1 MB/s eta 0:00:04\n",
      "   ------------------------- -------------- 6.1/9.4 MB 1.1 MB/s eta 0:00:04\n",
      "   -------------------------- ------------- 6.2/9.4 MB 1.1 MB/s eta 0:00:03\n",
      "   -------------------------- ------------- 6.3/9.4 MB 1.1 MB/s eta 0:00:03\n",
      "   -------------------------- ------------- 6.3/9.4 MB 1.1 MB/s eta 0:00:03\n",
      "   --------------------------- ------------ 6.4/9.4 MB 1.1 MB/s eta 0:00:03\n",
      "   --------------------------- ------------ 6.4/9.4 MB 1.1 MB/s eta 0:00:03\n",
      "   --------------------------- ------------ 6.5/9.4 MB 1.1 MB/s eta 0:00:03\n",
      "   --------------------------- ------------ 6.5/9.4 MB 1.1 MB/s eta 0:00:03\n",
      "   --------------------------- ------------ 6.6/9.4 MB 1.1 MB/s eta 0:00:03\n",
      "   ---------------------------- ----------- 6.7/9.4 MB 1.1 MB/s eta 0:00:03\n",
      "   ---------------------------- ----------- 6.8/9.4 MB 1.1 MB/s eta 0:00:03\n",
      "   ---------------------------- ----------- 6.8/9.4 MB 1.1 MB/s eta 0:00:03\n",
      "   ----------------------------- ---------- 6.9/9.4 MB 1.1 MB/s eta 0:00:03\n",
      "   ----------------------------- ---------- 7.0/9.4 MB 1.1 MB/s eta 0:00:03\n",
      "   ------------------------------ --------- 7.1/9.4 MB 1.1 MB/s eta 0:00:03\n",
      "   ------------------------------ --------- 7.2/9.4 MB 1.1 MB/s eta 0:00:02\n",
      "   ------------------------------ --------- 7.3/9.4 MB 1.2 MB/s eta 0:00:02\n",
      "   ------------------------------- -------- 7.4/9.4 MB 1.2 MB/s eta 0:00:02\n",
      "   ------------------------------- -------- 7.5/9.4 MB 1.2 MB/s eta 0:00:02\n",
      "   -------------------------------- ------- 7.6/9.4 MB 1.2 MB/s eta 0:00:02\n",
      "   -------------------------------- ------- 7.7/9.4 MB 1.2 MB/s eta 0:00:02\n",
      "   -------------------------------- ------- 7.8/9.4 MB 1.2 MB/s eta 0:00:02\n",
      "   --------------------------------- ------ 7.9/9.4 MB 1.2 MB/s eta 0:00:02\n",
      "   --------------------------------- ------ 7.9/9.4 MB 1.2 MB/s eta 0:00:02\n",
      "   ---------------------------------- ----- 8.0/9.4 MB 1.2 MB/s eta 0:00:02\n",
      "   ---------------------------------- ----- 8.1/9.4 MB 1.2 MB/s eta 0:00:02\n",
      "   ---------------------------------- ----- 8.2/9.4 MB 1.2 MB/s eta 0:00:02\n",
      "   ----------------------------------- ---- 8.3/9.4 MB 1.2 MB/s eta 0:00:01\n",
      "   ----------------------------------- ---- 8.4/9.4 MB 1.2 MB/s eta 0:00:01\n",
      "   ----------------------------------- ---- 8.5/9.4 MB 1.2 MB/s eta 0:00:01\n",
      "   ------------------------------------ --- 8.6/9.4 MB 1.2 MB/s eta 0:00:01\n",
      "   ------------------------------------ --- 8.6/9.4 MB 1.2 MB/s eta 0:00:01\n",
      "   ------------------------------------ --- 8.7/9.4 MB 1.2 MB/s eta 0:00:01\n",
      "   ------------------------------------- -- 8.8/9.4 MB 1.2 MB/s eta 0:00:01\n",
      "   ------------------------------------- -- 8.8/9.4 MB 1.2 MB/s eta 0:00:01\n",
      "   ------------------------------------- -- 8.9/9.4 MB 1.2 MB/s eta 0:00:01\n",
      "   -------------------------------------- - 9.0/9.4 MB 1.2 MB/s eta 0:00:01\n",
      "   -------------------------------------- - 9.1/9.4 MB 1.2 MB/s eta 0:00:01\n",
      "   -------------------------------------- - 9.2/9.4 MB 1.2 MB/s eta 0:00:01\n",
      "   ---------------------------------------  9.2/9.4 MB 1.2 MB/s eta 0:00:01\n",
      "   ---------------------------------------  9.3/9.4 MB 1.2 MB/s eta 0:00:01\n",
      "   ---------------------------------------  9.4/9.4 MB 1.2 MB/s eta 0:00:01\n",
      "   ---------------------------------------- 9.4/9.4 MB 1.2 MB/s eta 0:00:00\n",
      "Downloading trio-0.25.1-py3-none-any.whl (467 kB)\n",
      "   ---------------------------------------- 0.0/467.7 kB ? eta -:--:--\n",
      "   ------- -------------------------------- 92.2/467.7 kB 2.6 MB/s eta 0:00:01\n",
      "   -------------- ------------------------- 174.1/467.7 kB 2.1 MB/s eta 0:00:01\n",
      "   ----------------- ---------------------- 204.8/467.7 kB 1.8 MB/s eta 0:00:01\n",
      "   -------------------------- ------------- 307.2/467.7 kB 1.7 MB/s eta 0:00:01\n",
      "   ------------------------------ --------- 358.4/467.7 kB 1.6 MB/s eta 0:00:01\n",
      "   ----------------------------------- ---- 419.8/467.7 kB 1.5 MB/s eta 0:00:01\n",
      "   ---------------------------------------- 467.7/467.7 kB 1.5 MB/s eta 0:00:00\n",
      "Downloading trio_websocket-0.11.1-py3-none-any.whl (17 kB)\n",
      "Using cached typing_extensions-4.12.2-py3-none-any.whl (37 kB)\n",
      "Using cached websocket_client-1.8.0-py3-none-any.whl (58 kB)\n",
      "Using cached attrs-23.2.0-py3-none-any.whl (60 kB)\n",
      "Using cached sniffio-1.3.1-py3-none-any.whl (10 kB)\n",
      "Downloading wsproto-1.2.0-py3-none-any.whl (24 kB)\n",
      "Downloading outcome-1.3.0.post0-py2.py3-none-any.whl (10 kB)\n",
      "Using cached h11-0.14.0-py3-none-any.whl (58 kB)\n",
      "Installing collected packages: websocket-client, typing_extensions, sniffio, h11, attrs, wsproto, outcome, trio, trio-websocket, selenium\n",
      "  Attempting uninstall: websocket-client\n",
      "    Found existing installation: websocket-client 0.58.0\n",
      "    Uninstalling websocket-client-0.58.0:\n",
      "      Successfully uninstalled websocket-client-0.58.0\n",
      "  Attempting uninstall: typing_extensions\n",
      "    Found existing installation: typing_extensions 4.7.1\n",
      "    Uninstalling typing_extensions-4.7.1:\n",
      "      Successfully uninstalled typing_extensions-4.7.1\n",
      "  Attempting uninstall: sniffio\n",
      "    Found existing installation: sniffio 1.2.0\n",
      "    Uninstalling sniffio-1.2.0:\n",
      "      Successfully uninstalled sniffio-1.2.0\n",
      "  Attempting uninstall: attrs\n",
      "    Found existing installation: attrs 22.1.0\n",
      "    Uninstalling attrs-22.1.0:\n",
      "      Successfully uninstalled attrs-22.1.0\n",
      "Successfully installed attrs-23.2.0 h11-0.14.0 outcome-1.3.0.post0 selenium-4.22.0 sniffio-1.3.1 trio-0.25.1 trio-websocket-0.11.1 typing_extensions-4.12.2 websocket-client-1.8.0 wsproto-1.2.0\n"
     ]
    }
   ],
   "source": [
    "!pip install selenium"
   ]
  },
  {
   "cell_type": "code",
   "execution_count": 2,
   "id": "ed72325d-2a68-4a21-9b04-e030a105c23e",
   "metadata": {
    "tags": []
   },
   "outputs": [],
   "source": [
    "from selenium import webdriver"
   ]
  },
  {
   "cell_type": "code",
   "execution_count": 3,
   "id": "3bac9ff0-ee56-4e09-bc9f-8b2db4ca39ec",
   "metadata": {
    "tags": []
   },
   "outputs": [
    {
     "name": "stdout",
     "output_type": "stream",
     "text": [
      "Requirement already satisfied: selenium in c:\\users\\yash baldev\\anaconda3\\lib\\site-packages (4.22.0)\n",
      "Requirement already satisfied: urllib3[socks]<3,>=1.26 in c:\\users\\yash baldev\\anaconda3\\lib\\site-packages (from selenium) (1.26.16)\n",
      "Requirement already satisfied: trio~=0.17 in c:\\users\\yash baldev\\anaconda3\\lib\\site-packages (from selenium) (0.25.1)\n",
      "Requirement already satisfied: trio-websocket~=0.9 in c:\\users\\yash baldev\\anaconda3\\lib\\site-packages (from selenium) (0.11.1)\n",
      "Requirement already satisfied: certifi>=2021.10.8 in c:\\users\\yash baldev\\anaconda3\\lib\\site-packages (from selenium) (2023.7.22)\n",
      "Requirement already satisfied: typing_extensions>=4.9.0 in c:\\users\\yash baldev\\anaconda3\\lib\\site-packages (from selenium) (4.12.2)\n",
      "Requirement already satisfied: websocket-client>=1.8.0 in c:\\users\\yash baldev\\anaconda3\\lib\\site-packages (from selenium) (1.8.0)\n",
      "Requirement already satisfied: attrs>=23.2.0 in c:\\users\\yash baldev\\anaconda3\\lib\\site-packages (from trio~=0.17->selenium) (23.2.0)\n",
      "Requirement already satisfied: sortedcontainers in c:\\users\\yash baldev\\anaconda3\\lib\\site-packages (from trio~=0.17->selenium) (2.4.0)\n",
      "Requirement already satisfied: idna in c:\\users\\yash baldev\\anaconda3\\lib\\site-packages (from trio~=0.17->selenium) (3.4)\n",
      "Requirement already satisfied: outcome in c:\\users\\yash baldev\\anaconda3\\lib\\site-packages (from trio~=0.17->selenium) (1.3.0.post0)\n",
      "Requirement already satisfied: sniffio>=1.3.0 in c:\\users\\yash baldev\\anaconda3\\lib\\site-packages (from trio~=0.17->selenium) (1.3.1)\n",
      "Requirement already satisfied: cffi>=1.14 in c:\\users\\yash baldev\\anaconda3\\lib\\site-packages (from trio~=0.17->selenium) (1.15.1)\n",
      "Requirement already satisfied: wsproto>=0.14 in c:\\users\\yash baldev\\anaconda3\\lib\\site-packages (from trio-websocket~=0.9->selenium) (1.2.0)\n",
      "Requirement already satisfied: PySocks!=1.5.7,<2.0,>=1.5.6 in c:\\users\\yash baldev\\anaconda3\\lib\\site-packages (from urllib3[socks]<3,>=1.26->selenium) (1.7.1)\n",
      "Requirement already satisfied: pycparser in c:\\users\\yash baldev\\anaconda3\\lib\\site-packages (from cffi>=1.14->trio~=0.17->selenium) (2.21)\n",
      "Requirement already satisfied: h11<1,>=0.9.0 in c:\\users\\yash baldev\\anaconda3\\lib\\site-packages (from wsproto>=0.14->trio-websocket~=0.9->selenium) (0.14.0)\n",
      "Note: you may need to restart the kernel to use updated packages.\n"
     ]
    }
   ],
   "source": [
    "pip install --upgrade selenium"
   ]
  },
  {
   "cell_type": "code",
   "execution_count": 9,
   "id": "9d0531f2-0ef8-4ab2-b72a-642949eef302",
   "metadata": {},
   "outputs": [
    {
     "name": "stdout",
     "output_type": "stream",
     "text": [
      "Collecting webdriver-manager\n",
      "  Obtaining dependency information for webdriver-manager from https://files.pythonhosted.org/packages/b1/51/b5c11cf739ac4eecde611794a0ec9df420d0239d51e73bc19eb44f02b48b/webdriver_manager-4.0.1-py2.py3-none-any.whl.metadata\n",
      "  Downloading webdriver_manager-4.0.1-py2.py3-none-any.whl.metadata (12 kB)\n",
      "Requirement already satisfied: requests in c:\\users\\yash baldev\\anaconda3\\lib\\site-packages (from webdriver-manager) (2.31.0)\n",
      "Requirement already satisfied: python-dotenv in c:\\users\\yash baldev\\anaconda3\\lib\\site-packages (from webdriver-manager) (0.21.0)\n",
      "Requirement already satisfied: packaging in c:\\users\\yash baldev\\anaconda3\\lib\\site-packages (from webdriver-manager) (23.1)\n",
      "Requirement already satisfied: charset-normalizer<4,>=2 in c:\\users\\yash baldev\\anaconda3\\lib\\site-packages (from requests->webdriver-manager) (2.0.4)\n",
      "Requirement already satisfied: idna<4,>=2.5 in c:\\users\\yash baldev\\anaconda3\\lib\\site-packages (from requests->webdriver-manager) (3.4)\n",
      "Requirement already satisfied: urllib3<3,>=1.21.1 in c:\\users\\yash baldev\\anaconda3\\lib\\site-packages (from requests->webdriver-manager) (1.26.16)\n",
      "Requirement already satisfied: certifi>=2017.4.17 in c:\\users\\yash baldev\\anaconda3\\lib\\site-packages (from requests->webdriver-manager) (2023.7.22)\n",
      "Downloading webdriver_manager-4.0.1-py2.py3-none-any.whl (27 kB)\n",
      "Installing collected packages: webdriver-manager\n",
      "Successfully installed webdriver-manager-4.0.1\n"
     ]
    }
   ],
   "source": [
    "!pip install webdriver-manager"
   ]
  },
  {
   "cell_type": "code",
   "execution_count": 19,
   "id": "5fdc9dba-043b-44f8-b91a-d66fa9d9821c",
   "metadata": {},
   "outputs": [],
   "source": [
    "from selenium import webdriver\n",
    "from selenium.webdriver.chrome.service import Service\n",
    "chrome_driver_path = r\"C:\\Users\\Yash Baldev\\chromedriver-win32\\chromedriver-win32\\chromedriver.exe\"\n",
    "service = Service(executable_path=chrome_driver_path)\n",
    "driver = webdriver.Chrome(service=service)"
   ]
  },
  {
   "cell_type": "code",
   "execution_count": 20,
   "id": "9ba80bec-6bb8-4178-90f3-12bfdc67018e",
   "metadata": {
    "tags": []
   },
   "outputs": [],
   "source": [
    "import time\n",
    "\n",
    "for year in years:\n",
    "    url=player_stats_url.format(year)\n",
    "    driver.get(url)\n",
    "    driver.execute_script(\"window.scrollTo(1,100000)\")\n",
    "    time.sleep(2)\n",
    "    html=driver.page_source\n",
    "    with open(f\"player/{year}.html\",\"w+\",encoding=\"utf-8\") as f:\n",
    "        f.write(html)"
   ]
  },
  {
   "cell_type": "code",
   "execution_count": 24,
   "id": "594992b3-6692-4c78-9e9a-88bc0625af31",
   "metadata": {
    "tags": []
   },
   "outputs": [],
   "source": [
    "dfs=[]\n",
    "for year in years:\n",
    "    with open(f\"player/{year}.html\",encoding=\"utf-8\") as f:\n",
    "            page=f.read()\n",
    "    soup=BeautifulSoup(page,\"html.parser\")\n",
    "    soup.find('tr',class_=\"thead\").decompose()\n",
    "    player_table=soup.find(id=\"per_game_stats\")\n",
    "    player=pd.read_html(str(player_table))[0]\n",
    "    player[\"Year\"]=year\n",
    "    dfs.append(player)"
   ]
  },
  {
   "cell_type": "code",
   "execution_count": 25,
   "id": "0affeff5-1063-4fce-b15d-484f4f71c49e",
   "metadata": {
    "tags": []
   },
   "outputs": [],
   "source": [
    "players=pd.concat(dfs)"
   ]
  },
  {
   "cell_type": "code",
   "execution_count": 26,
   "id": "31f20535-7dd9-495b-9589-929237886d3c",
   "metadata": {
    "tags": []
   },
   "outputs": [],
   "source": [
    "players.to_csv(\"players.csv\")"
   ]
  },
  {
   "cell_type": "code",
   "execution_count": 30,
   "id": "796e155a-5d4e-4586-ab76-a94f369162ec",
   "metadata": {
    "tags": []
   },
   "outputs": [],
   "source": [
    "team_stats_url=\"https://www.basketball-reference.com/leagues/NBA_{}_standings.html\""
   ]
  },
  {
   "cell_type": "code",
   "execution_count": 33,
   "id": "d363eeb8-a2e5-4b89-8e15-6a77393f2e3b",
   "metadata": {
    "tags": []
   },
   "outputs": [],
   "source": [
    "for year in years:\n",
    "    url=team_stats_url.format(year)\n",
    "    data=requests.get(url)\n",
    "    with open(f\"team/{year}.html\",\"w+\",encoding=\"utf-8\") as f:\n",
    "        f.write(data.text)\n"
   ]
  },
  {
   "cell_type": "code",
   "execution_count": 38,
   "id": "35c2cd46-3adf-415d-adb2-f6e7c0164189",
   "metadata": {
    "tags": []
   },
   "outputs": [],
   "source": [
    "dfs=[]\n",
    "for year in years:\n",
    "    with open(f\"team/{year}.html\",encoding=\"utf-8\") as f:\n",
    "            page=f.read()\n",
    "    soup=BeautifulSoup(page,\"html.parser\")\n",
    "    soup.find('tr',class_=\"thead\").decompose()\n",
    "    team_table=soup.find(id=\"divs_standings_E\")\n",
    "    team=pd.read_html(str(team_table))[0]\n",
    "    team[\"Year\"]=year\n",
    "    team[\"Team\"]=team[\"Eastern Conference\"]\n",
    "    del team[\"Eastern Conference\"]\n",
    "    dfs.append(team)\n",
    "    \n",
    "    soup=BeautifulSoup(page,\"html.parser\")\n",
    "    soup.find('tr',class_=\"thead\").decompose()\n",
    "    team_table=soup.find(id=\"divs_standings_W\")\n",
    "    team=pd.read_html(str(team_table))[0]\n",
    "    team[\"Year\"]=year\n",
    "    team[\"Team\"]=team[\"Western Conference\"]\n",
    "    del team[\"Western Conference\"]\n",
    "    dfs.append(team)"
   ]
  },
  {
   "cell_type": "code",
   "execution_count": 40,
   "id": "d9da8723-892a-4022-86e1-360624a09edb",
   "metadata": {
    "tags": []
   },
   "outputs": [],
   "source": [
    "teams=pd.concat(dfs)"
   ]
  },
  {
   "cell_type": "code",
   "execution_count": 41,
   "id": "c66ee5fd-4f7d-4852-b17a-6d4efd09d0a9",
   "metadata": {
    "tags": []
   },
   "outputs": [
    {
     "data": {
      "text/html": [
       "<div>\n",
       "<style scoped>\n",
       "    .dataframe tbody tr th:only-of-type {\n",
       "        vertical-align: middle;\n",
       "    }\n",
       "\n",
       "    .dataframe tbody tr th {\n",
       "        vertical-align: top;\n",
       "    }\n",
       "\n",
       "    .dataframe thead th {\n",
       "        text-align: right;\n",
       "    }\n",
       "</style>\n",
       "<table border=\"1\" class=\"dataframe\">\n",
       "  <thead>\n",
       "    <tr style=\"text-align: right;\">\n",
       "      <th></th>\n",
       "      <th>W</th>\n",
       "      <th>L</th>\n",
       "      <th>W/L%</th>\n",
       "      <th>GB</th>\n",
       "      <th>PS/G</th>\n",
       "      <th>PA/G</th>\n",
       "      <th>SRS</th>\n",
       "      <th>Year</th>\n",
       "      <th>Team</th>\n",
       "    </tr>\n",
       "  </thead>\n",
       "  <tbody>\n",
       "    <tr>\n",
       "      <th>0</th>\n",
       "      <td>56</td>\n",
       "      <td>26</td>\n",
       "      <td>.683</td>\n",
       "      <td>—</td>\n",
       "      <td>111.5</td>\n",
       "      <td>105.7</td>\n",
       "      <td>5.22</td>\n",
       "      <td>1991</td>\n",
       "      <td>Boston Celtics*</td>\n",
       "    </tr>\n",
       "    <tr>\n",
       "      <th>1</th>\n",
       "      <td>44</td>\n",
       "      <td>38</td>\n",
       "      <td>.537</td>\n",
       "      <td>12.0</td>\n",
       "      <td>105.4</td>\n",
       "      <td>105.6</td>\n",
       "      <td>-0.39</td>\n",
       "      <td>1991</td>\n",
       "      <td>Philadelphia 76ers*</td>\n",
       "    </tr>\n",
       "    <tr>\n",
       "      <th>2</th>\n",
       "      <td>39</td>\n",
       "      <td>43</td>\n",
       "      <td>.476</td>\n",
       "      <td>17.0</td>\n",
       "      <td>103.1</td>\n",
       "      <td>103.3</td>\n",
       "      <td>-0.43</td>\n",
       "      <td>1991</td>\n",
       "      <td>New York Knicks*</td>\n",
       "    </tr>\n",
       "    <tr>\n",
       "      <th>3</th>\n",
       "      <td>30</td>\n",
       "      <td>52</td>\n",
       "      <td>.366</td>\n",
       "      <td>26.0</td>\n",
       "      <td>101.4</td>\n",
       "      <td>106.4</td>\n",
       "      <td>-4.84</td>\n",
       "      <td>1991</td>\n",
       "      <td>Washington Bullets</td>\n",
       "    </tr>\n",
       "    <tr>\n",
       "      <th>4</th>\n",
       "      <td>26</td>\n",
       "      <td>56</td>\n",
       "      <td>.317</td>\n",
       "      <td>30.0</td>\n",
       "      <td>102.9</td>\n",
       "      <td>107.5</td>\n",
       "      <td>-4.53</td>\n",
       "      <td>1991</td>\n",
       "      <td>New Jersey Nets</td>\n",
       "    </tr>\n",
       "    <tr>\n",
       "      <th>...</th>\n",
       "      <td>...</td>\n",
       "      <td>...</td>\n",
       "      <td>...</td>\n",
       "      <td>...</td>\n",
       "      <td>...</td>\n",
       "      <td>...</td>\n",
       "      <td>...</td>\n",
       "      <td>...</td>\n",
       "      <td>...</td>\n",
       "    </tr>\n",
       "    <tr>\n",
       "      <th>13</th>\n",
       "      <td>50</td>\n",
       "      <td>32</td>\n",
       "      <td>.610</td>\n",
       "      <td>—</td>\n",
       "      <td>117.9</td>\n",
       "      <td>115.6</td>\n",
       "      <td>2.30</td>\n",
       "      <td>2024</td>\n",
       "      <td>Dallas Mavericks*</td>\n",
       "    </tr>\n",
       "    <tr>\n",
       "      <th>14</th>\n",
       "      <td>49</td>\n",
       "      <td>33</td>\n",
       "      <td>.598</td>\n",
       "      <td>1.0</td>\n",
       "      <td>115.1</td>\n",
       "      <td>110.7</td>\n",
       "      <td>4.46</td>\n",
       "      <td>2024</td>\n",
       "      <td>New Orleans Pelicans*</td>\n",
       "    </tr>\n",
       "    <tr>\n",
       "      <th>15</th>\n",
       "      <td>41</td>\n",
       "      <td>41</td>\n",
       "      <td>.500</td>\n",
       "      <td>9.0</td>\n",
       "      <td>114.3</td>\n",
       "      <td>113.2</td>\n",
       "      <td>1.24</td>\n",
       "      <td>2024</td>\n",
       "      <td>Houston Rockets</td>\n",
       "    </tr>\n",
       "    <tr>\n",
       "      <th>16</th>\n",
       "      <td>27</td>\n",
       "      <td>55</td>\n",
       "      <td>.329</td>\n",
       "      <td>23.0</td>\n",
       "      <td>105.8</td>\n",
       "      <td>112.8</td>\n",
       "      <td>-6.57</td>\n",
       "      <td>2024</td>\n",
       "      <td>Memphis Grizzlies</td>\n",
       "    </tr>\n",
       "    <tr>\n",
       "      <th>17</th>\n",
       "      <td>22</td>\n",
       "      <td>60</td>\n",
       "      <td>.268</td>\n",
       "      <td>28.0</td>\n",
       "      <td>112.1</td>\n",
       "      <td>118.6</td>\n",
       "      <td>-5.80</td>\n",
       "      <td>2024</td>\n",
       "      <td>San Antonio Spurs</td>\n",
       "    </tr>\n",
       "  </tbody>\n",
       "</table>\n",
       "<p>1138 rows × 9 columns</p>\n",
       "</div>"
      ],
      "text/plain": [
       "     W   L  W/L%    GB   PS/G   PA/G    SRS  Year                   Team\n",
       "0   56  26  .683     —  111.5  105.7   5.22  1991        Boston Celtics*\n",
       "1   44  38  .537  12.0  105.4  105.6  -0.39  1991    Philadelphia 76ers*\n",
       "2   39  43  .476  17.0  103.1  103.3  -0.43  1991       New York Knicks*\n",
       "3   30  52  .366  26.0  101.4  106.4  -4.84  1991     Washington Bullets\n",
       "4   26  56  .317  30.0  102.9  107.5  -4.53  1991        New Jersey Nets\n",
       "..  ..  ..   ...   ...    ...    ...    ...   ...                    ...\n",
       "13  50  32  .610     —  117.9  115.6   2.30  2024      Dallas Mavericks*\n",
       "14  49  33  .598   1.0  115.1  110.7   4.46  2024  New Orleans Pelicans*\n",
       "15  41  41  .500   9.0  114.3  113.2   1.24  2024        Houston Rockets\n",
       "16  27  55  .329  23.0  105.8  112.8  -6.57  2024      Memphis Grizzlies\n",
       "17  22  60  .268  28.0  112.1  118.6  -5.80  2024      San Antonio Spurs\n",
       "\n",
       "[1138 rows x 9 columns]"
      ]
     },
     "execution_count": 41,
     "metadata": {},
     "output_type": "execute_result"
    }
   ],
   "source": []
  },
  {
   "cell_type": "code",
   "execution_count": 42,
   "id": "cfc0f9c6-de37-4074-a79b-bdb2e5c00a56",
   "metadata": {
    "tags": []
   },
   "outputs": [],
   "source": [
    "teams.to_csv(\"teams.csv\")"
   ]
  },
  {
   "cell_type": "code",
   "execution_count": null,
   "id": "70017ce5-99a6-46ea-90ce-d82e89361814",
   "metadata": {},
   "outputs": [],
   "source": []
  }
 ],
 "metadata": {
  "kernelspec": {
   "display_name": "Python 3 (ipykernel)",
   "language": "python",
   "name": "python3"
  },
  "language_info": {
   "codemirror_mode": {
    "name": "ipython",
    "version": 3
   },
   "file_extension": ".py",
   "mimetype": "text/x-python",
   "name": "python",
   "nbconvert_exporter": "python",
   "pygments_lexer": "ipython3",
   "version": "3.11.5"
  }
 },
 "nbformat": 4,
 "nbformat_minor": 5
}
