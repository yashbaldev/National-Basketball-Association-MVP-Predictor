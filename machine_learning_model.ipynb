{
 "cells": [
  {
   "cell_type": "code",
   "execution_count": 1,
   "id": "95779524-4227-4836-a8b8-b8b1c300de34",
   "metadata": {
    "tags": []
   },
   "outputs": [],
   "source": [
    "import pandas as pd"
   ]
  },
  {
   "cell_type": "code",
   "execution_count": 2,
   "id": "10ef7ca2-fae5-4652-b6e4-5712e857d01f",
   "metadata": {
    "tags": []
   },
   "outputs": [],
   "source": [
    "stats=pd.read_csv(\"player_mvp_stats.csv\")"
   ]
  },
  {
   "cell_type": "code",
   "execution_count": 3,
   "id": "c2b8ec81-5f56-4d59-8326-d41a8de38141",
   "metadata": {
    "tags": []
   },
   "outputs": [],
   "source": [
    "del stats[\"Unnamed: 0\"]"
   ]
  },
  {
   "cell_type": "code",
   "execution_count": 6,
   "id": "f65d9664-8bb1-4b46-8002-22624e4d8610",
   "metadata": {
    "tags": []
   },
   "outputs": [],
   "source": [
    "stats=stats.fillna(0)"
   ]
  },
  {
   "cell_type": "code",
   "execution_count": 7,
   "id": "423ba203-dc62-45e0-a49a-1d719b39690f",
   "metadata": {
    "tags": []
   },
   "outputs": [
    {
     "data": {
      "text/plain": [
       "Index(['Player', 'Pos', 'Age', 'Tm', 'G', 'GS', 'MP', 'FG', 'FGA', 'FG%', '3P',\n",
       "       '3PA', '3P%', '2P', '2PA', '2P%', 'eFG%', 'FT', 'FTA', 'FT%', 'ORB',\n",
       "       'DRB', 'TRB', 'AST', 'STL', 'BLK', 'TOV', 'PF', 'PTS', 'Year',\n",
       "       'Pts Won', 'Pts Max', 'Share', 'Team', 'W', 'L', 'W/L%', 'GB', 'PS/G',\n",
       "       'PA/G', 'SRS'],\n",
       "      dtype='object')"
      ]
     },
     "execution_count": 7,
     "metadata": {},
     "output_type": "execute_result"
    }
   ],
   "source": [
    "stats.columns"
   ]
  },
  {
   "cell_type": "code",
   "execution_count": 8,
   "id": "710e6c09-9381-4954-85fd-85e60a42256d",
   "metadata": {
    "tags": []
   },
   "outputs": [],
   "source": [
    "predictors=['Age', 'G', 'GS', 'MP', 'FG', 'FGA', 'FG%', '3P',\n",
    "       '3PA', '3P%', '2P', '2PA', '2P%', 'eFG%', 'FT', 'FTA', 'FT%', 'ORB',\n",
    "       'DRB', 'TRB', 'AST', 'STL', 'BLK', 'TOV', 'PF', 'PTS', 'Year', 'W', 'L', 'W/L%', 'GB', 'PS/G',\n",
    "       'PA/G', 'SRS']"
   ]
  },
  {
   "cell_type": "code",
   "execution_count": 9,
   "id": "5998d287-d132-4172-9bf9-e8a28faa3ca7",
   "metadata": {
    "tags": []
   },
   "outputs": [],
   "source": [
    "train= stats[stats[\"Year\"]<2024]"
   ]
  },
  {
   "cell_type": "code",
   "execution_count": 10,
   "id": "ec6c5e77-4eda-4791-bd88-d39a41601955",
   "metadata": {
    "tags": []
   },
   "outputs": [],
   "source": [
    "test= stats[stats[\"Year\"]==2024]"
   ]
  },
  {
   "cell_type": "code",
   "execution_count": 12,
   "id": "39dba98d-4fab-41db-ae68-bf75d7a7c95f",
   "metadata": {
    "tags": []
   },
   "outputs": [],
   "source": [
    "from sklearn.linear_model import Ridge"
   ]
  },
  {
   "cell_type": "code",
   "execution_count": 13,
   "id": "7a07eb5b-07d1-4729-ab32-9c7efc24116c",
   "metadata": {
    "tags": []
   },
   "outputs": [],
   "source": [
    "reg=Ridge(alpha=.1)"
   ]
  },
  {
   "cell_type": "code",
   "execution_count": 14,
   "id": "c4963a16-7344-4f48-9156-f1dd1815e0f1",
   "metadata": {
    "tags": []
   },
   "outputs": [
    {
     "data": {
      "text/html": [
       "<style>#sk-container-id-1 {color: black;}#sk-container-id-1 pre{padding: 0;}#sk-container-id-1 div.sk-toggleable {background-color: white;}#sk-container-id-1 label.sk-toggleable__label {cursor: pointer;display: block;width: 100%;margin-bottom: 0;padding: 0.3em;box-sizing: border-box;text-align: center;}#sk-container-id-1 label.sk-toggleable__label-arrow:before {content: \"▸\";float: left;margin-right: 0.25em;color: #696969;}#sk-container-id-1 label.sk-toggleable__label-arrow:hover:before {color: black;}#sk-container-id-1 div.sk-estimator:hover label.sk-toggleable__label-arrow:before {color: black;}#sk-container-id-1 div.sk-toggleable__content {max-height: 0;max-width: 0;overflow: hidden;text-align: left;background-color: #f0f8ff;}#sk-container-id-1 div.sk-toggleable__content pre {margin: 0.2em;color: black;border-radius: 0.25em;background-color: #f0f8ff;}#sk-container-id-1 input.sk-toggleable__control:checked~div.sk-toggleable__content {max-height: 200px;max-width: 100%;overflow: auto;}#sk-container-id-1 input.sk-toggleable__control:checked~label.sk-toggleable__label-arrow:before {content: \"▾\";}#sk-container-id-1 div.sk-estimator input.sk-toggleable__control:checked~label.sk-toggleable__label {background-color: #d4ebff;}#sk-container-id-1 div.sk-label input.sk-toggleable__control:checked~label.sk-toggleable__label {background-color: #d4ebff;}#sk-container-id-1 input.sk-hidden--visually {border: 0;clip: rect(1px 1px 1px 1px);clip: rect(1px, 1px, 1px, 1px);height: 1px;margin: -1px;overflow: hidden;padding: 0;position: absolute;width: 1px;}#sk-container-id-1 div.sk-estimator {font-family: monospace;background-color: #f0f8ff;border: 1px dotted black;border-radius: 0.25em;box-sizing: border-box;margin-bottom: 0.5em;}#sk-container-id-1 div.sk-estimator:hover {background-color: #d4ebff;}#sk-container-id-1 div.sk-parallel-item::after {content: \"\";width: 100%;border-bottom: 1px solid gray;flex-grow: 1;}#sk-container-id-1 div.sk-label:hover label.sk-toggleable__label {background-color: #d4ebff;}#sk-container-id-1 div.sk-serial::before {content: \"\";position: absolute;border-left: 1px solid gray;box-sizing: border-box;top: 0;bottom: 0;left: 50%;z-index: 0;}#sk-container-id-1 div.sk-serial {display: flex;flex-direction: column;align-items: center;background-color: white;padding-right: 0.2em;padding-left: 0.2em;position: relative;}#sk-container-id-1 div.sk-item {position: relative;z-index: 1;}#sk-container-id-1 div.sk-parallel {display: flex;align-items: stretch;justify-content: center;background-color: white;position: relative;}#sk-container-id-1 div.sk-item::before, #sk-container-id-1 div.sk-parallel-item::before {content: \"\";position: absolute;border-left: 1px solid gray;box-sizing: border-box;top: 0;bottom: 0;left: 50%;z-index: -1;}#sk-container-id-1 div.sk-parallel-item {display: flex;flex-direction: column;z-index: 1;position: relative;background-color: white;}#sk-container-id-1 div.sk-parallel-item:first-child::after {align-self: flex-end;width: 50%;}#sk-container-id-1 div.sk-parallel-item:last-child::after {align-self: flex-start;width: 50%;}#sk-container-id-1 div.sk-parallel-item:only-child::after {width: 0;}#sk-container-id-1 div.sk-dashed-wrapped {border: 1px dashed gray;margin: 0 0.4em 0.5em 0.4em;box-sizing: border-box;padding-bottom: 0.4em;background-color: white;}#sk-container-id-1 div.sk-label label {font-family: monospace;font-weight: bold;display: inline-block;line-height: 1.2em;}#sk-container-id-1 div.sk-label-container {text-align: center;}#sk-container-id-1 div.sk-container {/* jupyter's `normalize.less` sets `[hidden] { display: none; }` but bootstrap.min.css set `[hidden] { display: none !important; }` so we also need the `!important` here to be able to override the default hidden behavior on the sphinx rendered scikit-learn.org. See: https://github.com/scikit-learn/scikit-learn/issues/21755 */display: inline-block !important;position: relative;}#sk-container-id-1 div.sk-text-repr-fallback {display: none;}</style><div id=\"sk-container-id-1\" class=\"sk-top-container\"><div class=\"sk-text-repr-fallback\"><pre>Ridge(alpha=0.1)</pre><b>In a Jupyter environment, please rerun this cell to show the HTML representation or trust the notebook. <br />On GitHub, the HTML representation is unable to render, please try loading this page with nbviewer.org.</b></div><div class=\"sk-container\" hidden><div class=\"sk-item\"><div class=\"sk-estimator sk-toggleable\"><input class=\"sk-toggleable__control sk-hidden--visually\" id=\"sk-estimator-id-1\" type=\"checkbox\" checked><label for=\"sk-estimator-id-1\" class=\"sk-toggleable__label sk-toggleable__label-arrow\">Ridge</label><div class=\"sk-toggleable__content\"><pre>Ridge(alpha=0.1)</pre></div></div></div></div></div>"
      ],
      "text/plain": [
       "Ridge(alpha=0.1)"
      ]
     },
     "execution_count": 14,
     "metadata": {},
     "output_type": "execute_result"
    }
   ],
   "source": [
    "reg.fit(train[predictors],train[\"Share\"])"
   ]
  },
  {
   "cell_type": "code",
   "execution_count": 15,
   "id": "8ee20860-04d6-427b-97b6-4c315cfa0cac",
   "metadata": {
    "tags": []
   },
   "outputs": [],
   "source": [
    "predictions=reg.predict(test[predictors])"
   ]
  },
  {
   "cell_type": "code",
   "execution_count": 16,
   "id": "53c5740d-eb67-4d22-880d-f8840a3aaa59",
   "metadata": {
    "tags": []
   },
   "outputs": [],
   "source": [
    "predictions=pd.DataFrame(predictions,columns=[\"predictions\"],index=test.index)"
   ]
  },
  {
   "cell_type": "code",
   "execution_count": 17,
   "id": "89e69cc9-2a3f-4664-bca7-53b467f88ce4",
   "metadata": {
    "tags": []
   },
   "outputs": [],
   "source": [
    "combination=pd.concat([test[[\"Player\",\"Share\"]],predictions],axis=1)"
   ]
  },
  {
   "cell_type": "code",
   "execution_count": 18,
   "id": "53ec3f2e-469a-4c8b-a3fb-7c6f08ed9e5f",
   "metadata": {
    "tags": []
   },
   "outputs": [
    {
     "data": {
      "text/html": [
       "<div>\n",
       "<style scoped>\n",
       "    .dataframe tbody tr th:only-of-type {\n",
       "        vertical-align: middle;\n",
       "    }\n",
       "\n",
       "    .dataframe tbody tr th {\n",
       "        vertical-align: top;\n",
       "    }\n",
       "\n",
       "    .dataframe thead th {\n",
       "        text-align: right;\n",
       "    }\n",
       "</style>\n",
       "<table border=\"1\" class=\"dataframe\">\n",
       "  <thead>\n",
       "    <tr style=\"text-align: right;\">\n",
       "      <th></th>\n",
       "      <th>Player</th>\n",
       "      <th>Share</th>\n",
       "      <th>predictions</th>\n",
       "    </tr>\n",
       "  </thead>\n",
       "  <tbody>\n",
       "    <tr>\n",
       "      <th>1449</th>\n",
       "      <td>Shai Gilgeous-Alexander</td>\n",
       "      <td>0.646</td>\n",
       "      <td>0.158917</td>\n",
       "    </tr>\n",
       "    <tr>\n",
       "      <th>236</th>\n",
       "      <td>Giannis Antetokounmpo</td>\n",
       "      <td>0.194</td>\n",
       "      <td>0.197882</td>\n",
       "    </tr>\n",
       "    <tr>\n",
       "      <th>4086</th>\n",
       "      <td>Jalen Brunson</td>\n",
       "      <td>0.143</td>\n",
       "      <td>0.092926</td>\n",
       "    </tr>\n",
       "    <tr>\n",
       "      <th>3078</th>\n",
       "      <td>Jayson Tatum</td>\n",
       "      <td>0.087</td>\n",
       "      <td>0.106823</td>\n",
       "    </tr>\n",
       "    <tr>\n",
       "      <th>8964</th>\n",
       "      <td>Anthony Edwards</td>\n",
       "      <td>0.018</td>\n",
       "      <td>0.084015</td>\n",
       "    </tr>\n",
       "    <tr>\n",
       "      <th>4513</th>\n",
       "      <td>Domantas Sabonis</td>\n",
       "      <td>0.003</td>\n",
       "      <td>0.082432</td>\n",
       "    </tr>\n",
       "    <tr>\n",
       "      <th>12754</th>\n",
       "      <td>Kevin Durant</td>\n",
       "      <td>0.001</td>\n",
       "      <td>0.095790</td>\n",
       "    </tr>\n",
       "    <tr>\n",
       "      <th>229</th>\n",
       "      <td>A.J. Green</td>\n",
       "      <td>0.000</td>\n",
       "      <td>0.002784</td>\n",
       "    </tr>\n",
       "    <tr>\n",
       "      <th>10511</th>\n",
       "      <td>Nic Claxton</td>\n",
       "      <td>0.000</td>\n",
       "      <td>0.034264</td>\n",
       "    </tr>\n",
       "    <tr>\n",
       "      <th>10507</th>\n",
       "      <td>Keita Bates-Diop</td>\n",
       "      <td>0.000</td>\n",
       "      <td>-0.001677</td>\n",
       "    </tr>\n",
       "  </tbody>\n",
       "</table>\n",
       "</div>"
      ],
      "text/plain": [
       "                        Player  Share  predictions\n",
       "1449   Shai Gilgeous-Alexander  0.646     0.158917\n",
       "236      Giannis Antetokounmpo  0.194     0.197882\n",
       "4086             Jalen Brunson  0.143     0.092926\n",
       "3078              Jayson Tatum  0.087     0.106823\n",
       "8964           Anthony Edwards  0.018     0.084015\n",
       "4513          Domantas Sabonis  0.003     0.082432\n",
       "12754             Kevin Durant  0.001     0.095790\n",
       "229                 A.J. Green  0.000     0.002784\n",
       "10511              Nic Claxton  0.000     0.034264\n",
       "10507         Keita Bates-Diop  0.000    -0.001677"
      ]
     },
     "execution_count": 18,
     "metadata": {},
     "output_type": "execute_result"
    }
   ],
   "source": [
    "combination.sort_values(\"Share\",ascending=False).head(10)"
   ]
  },
  {
   "cell_type": "code",
   "execution_count": 19,
   "id": "ac29d1e1-a617-43de-8a25-8aa767f2de36",
   "metadata": {
    "tags": []
   },
   "outputs": [
    {
     "data": {
      "text/plain": [
       "0.0012032687247542245"
      ]
     },
     "execution_count": 19,
     "metadata": {},
     "output_type": "execute_result"
    }
   ],
   "source": [
    "from sklearn.metrics import mean_squared_error\n",
    "mean_squared_error(combination[\"Share\"],combination[\"predictions\"])"
   ]
  },
  {
   "cell_type": "code",
   "execution_count": 20,
   "id": "db71948e-f403-4b12-8d85-7437a76e9cec",
   "metadata": {
    "tags": []
   },
   "outputs": [],
   "source": [
    "combination=combination.sort_values(\"Share\",ascending=False)\n",
    "combination[\"Rk\"]=list(range(1,combination.shape[0]+1))"
   ]
  },
  {
   "cell_type": "code",
   "execution_count": 25,
   "id": "270f178a-fd22-4bc1-a515-9feab595a850",
   "metadata": {
    "tags": []
   },
   "outputs": [
    {
     "data": {
      "text/html": [
       "<div>\n",
       "<style scoped>\n",
       "    .dataframe tbody tr th:only-of-type {\n",
       "        vertical-align: middle;\n",
       "    }\n",
       "\n",
       "    .dataframe tbody tr th {\n",
       "        vertical-align: top;\n",
       "    }\n",
       "\n",
       "    .dataframe thead th {\n",
       "        text-align: right;\n",
       "    }\n",
       "</style>\n",
       "<table border=\"1\" class=\"dataframe\">\n",
       "  <thead>\n",
       "    <tr style=\"text-align: right;\">\n",
       "      <th></th>\n",
       "      <th>Player</th>\n",
       "      <th>Share</th>\n",
       "      <th>predictions</th>\n",
       "      <th>Rk</th>\n",
       "      <th>Predicted_Rk</th>\n",
       "    </tr>\n",
       "  </thead>\n",
       "  <tbody>\n",
       "    <tr>\n",
       "      <th>236</th>\n",
       "      <td>Giannis Antetokounmpo</td>\n",
       "      <td>0.194</td>\n",
       "      <td>0.197882</td>\n",
       "      <td>2</td>\n",
       "      <td>1</td>\n",
       "    </tr>\n",
       "    <tr>\n",
       "      <th>14107</th>\n",
       "      <td>Joel Embiid</td>\n",
       "      <td>0.000</td>\n",
       "      <td>0.192867</td>\n",
       "      <td>206</td>\n",
       "      <td>2</td>\n",
       "    </tr>\n",
       "    <tr>\n",
       "      <th>346</th>\n",
       "      <td>Luka Dončić</td>\n",
       "      <td>0.000</td>\n",
       "      <td>0.176341</td>\n",
       "      <td>374</td>\n",
       "      <td>3</td>\n",
       "    </tr>\n",
       "    <tr>\n",
       "      <th>1449</th>\n",
       "      <td>Shai Gilgeous-Alexander</td>\n",
       "      <td>0.646</td>\n",
       "      <td>0.158917</td>\n",
       "      <td>1</td>\n",
       "      <td>4</td>\n",
       "    </tr>\n",
       "    <tr>\n",
       "      <th>811</th>\n",
       "      <td>Nikola Jokić</td>\n",
       "      <td>0.000</td>\n",
       "      <td>0.149822</td>\n",
       "      <td>412</td>\n",
       "      <td>5</td>\n",
       "    </tr>\n",
       "  </tbody>\n",
       "</table>\n",
       "</div>"
      ],
      "text/plain": [
       "                        Player  Share  predictions   Rk  Predicted_Rk\n",
       "236      Giannis Antetokounmpo  0.194     0.197882    2             1\n",
       "14107              Joel Embiid  0.000     0.192867  206             2\n",
       "346                Luka Dončić  0.000     0.176341  374             3\n",
       "1449   Shai Gilgeous-Alexander  0.646     0.158917    1             4\n",
       "811               Nikola Jokić  0.000     0.149822  412             5"
      ]
     },
     "execution_count": 25,
     "metadata": {},
     "output_type": "execute_result"
    }
   ],
   "source": [
    "combination.head()"
   ]
  },
  {
   "cell_type": "code",
   "execution_count": 22,
   "id": "049e03a6-ac14-48f8-b94a-2d4726e862ff",
   "metadata": {
    "tags": []
   },
   "outputs": [],
   "source": [
    "combination=combination.sort_values(\"predictions\",ascending=False)\n",
    "combination[\"Predicted_Rk\"]=list(range(1,combination.shape[0]+1))"
   ]
  },
  {
   "cell_type": "code",
   "execution_count": 24,
   "id": "acc3054d-3e2c-457f-87b9-d74dc84636e9",
   "metadata": {
    "tags": []
   },
   "outputs": [
    {
     "data": {
      "text/html": [
       "<div>\n",
       "<style scoped>\n",
       "    .dataframe tbody tr th:only-of-type {\n",
       "        vertical-align: middle;\n",
       "    }\n",
       "\n",
       "    .dataframe tbody tr th {\n",
       "        vertical-align: top;\n",
       "    }\n",
       "\n",
       "    .dataframe thead th {\n",
       "        text-align: right;\n",
       "    }\n",
       "</style>\n",
       "<table border=\"1\" class=\"dataframe\">\n",
       "  <thead>\n",
       "    <tr style=\"text-align: right;\">\n",
       "      <th></th>\n",
       "      <th>Player</th>\n",
       "      <th>Share</th>\n",
       "      <th>predictions</th>\n",
       "      <th>Rk</th>\n",
       "      <th>Predicted_Rk</th>\n",
       "    </tr>\n",
       "  </thead>\n",
       "  <tbody>\n",
       "    <tr>\n",
       "      <th>236</th>\n",
       "      <td>Giannis Antetokounmpo</td>\n",
       "      <td>0.194</td>\n",
       "      <td>0.197882</td>\n",
       "      <td>2</td>\n",
       "      <td>1</td>\n",
       "    </tr>\n",
       "    <tr>\n",
       "      <th>14107</th>\n",
       "      <td>Joel Embiid</td>\n",
       "      <td>0.000</td>\n",
       "      <td>0.192867</td>\n",
       "      <td>206</td>\n",
       "      <td>2</td>\n",
       "    </tr>\n",
       "    <tr>\n",
       "      <th>346</th>\n",
       "      <td>Luka Dončić</td>\n",
       "      <td>0.000</td>\n",
       "      <td>0.176341</td>\n",
       "      <td>374</td>\n",
       "      <td>3</td>\n",
       "    </tr>\n",
       "    <tr>\n",
       "      <th>1449</th>\n",
       "      <td>Shai Gilgeous-Alexander</td>\n",
       "      <td>0.646</td>\n",
       "      <td>0.158917</td>\n",
       "      <td>1</td>\n",
       "      <td>4</td>\n",
       "    </tr>\n",
       "    <tr>\n",
       "      <th>811</th>\n",
       "      <td>Nikola Jokić</td>\n",
       "      <td>0.000</td>\n",
       "      <td>0.149822</td>\n",
       "      <td>412</td>\n",
       "      <td>5</td>\n",
       "    </tr>\n",
       "  </tbody>\n",
       "</table>\n",
       "</div>"
      ],
      "text/plain": [
       "                        Player  Share  predictions   Rk  Predicted_Rk\n",
       "236      Giannis Antetokounmpo  0.194     0.197882    2             1\n",
       "14107              Joel Embiid  0.000     0.192867  206             2\n",
       "346                Luka Dončić  0.000     0.176341  374             3\n",
       "1449   Shai Gilgeous-Alexander  0.646     0.158917    1             4\n",
       "811               Nikola Jokić  0.000     0.149822  412             5"
      ]
     },
     "execution_count": 24,
     "metadata": {},
     "output_type": "execute_result"
    }
   ],
   "source": [
    "combination.head()"
   ]
  },
  {
   "cell_type": "code",
   "execution_count": 32,
   "id": "557455db-ab18-4cb7-bbc2-5ca74cfa6e27",
   "metadata": {
    "tags": []
   },
   "outputs": [],
   "source": [
    "def find_ap(combination):\n",
    "    actual=combination.sort_values(\"Share\",ascending=False).head(5)\n",
    "    predicted=combination.sort_values(\"predictions\",ascending=False)\n",
    "    ps=[]\n",
    "    found=0\n",
    "    seen=1\n",
    "    for index,row in predicted.iterrows():\n",
    "        if row[\"Player\"] in actual[\"Player\"].values:\n",
    "            found+=1\n",
    "            ps.append(found/seen)\n",
    "        seen+=1\n",
    "    return sum(ps)/len(ps)"
   ]
  },
  {
   "cell_type": "code",
   "execution_count": 33,
   "id": "caa59011-130a-409b-8b32-6eefe8f3fdd2",
   "metadata": {
    "tags": []
   },
   "outputs": [
    {
     "data": {
      "text/plain": [
       "0.5065508021390375"
      ]
     },
     "execution_count": 33,
     "metadata": {},
     "output_type": "execute_result"
    }
   ],
   "source": [
    "find_ap(combination)"
   ]
  },
  {
   "cell_type": "code",
   "execution_count": 34,
   "id": "3786a1a1-8a9a-4b60-887c-b5ec9951d3eb",
   "metadata": {
    "tags": []
   },
   "outputs": [],
   "source": [
    "years=list(range(1991,2025))"
   ]
  },
  {
   "cell_type": "code",
   "execution_count": 36,
   "id": "5b2f3703-febf-4f4c-906a-369bc9249fa3",
   "metadata": {
    "tags": []
   },
   "outputs": [],
   "source": [
    "aps=[]\n",
    "all_predictions=[]\n",
    "for year in years[5:]:\n",
    "    train=stats[stats[\"Year\"]<year]\n",
    "    test=stats[stats[\"Year\"]==year]\n",
    "    reg.fit(train[predictors],train[\"Share\"])\n",
    "    predictions=reg.predict(test[predictors])\n",
    "    predictions=pd.DataFrame(predictions,columns=[\"predictions\"],index=test.index)\n",
    "    combination=pd.concat([test[[\"Player\",\"Share\"]],predictions],axis=1)\n",
    "    all_predictions.append(combination)\n",
    "    aps.append(find_ap(combination))"
   ]
  },
  {
   "cell_type": "code",
   "execution_count": 37,
   "id": "74152e80-55ff-4b7b-b250-1237038d2502",
   "metadata": {
    "tags": []
   },
   "outputs": [
    {
     "data": {
      "text/plain": [
       "0.6952816288310577"
      ]
     },
     "execution_count": 37,
     "metadata": {},
     "output_type": "execute_result"
    }
   ],
   "source": [
    "sum(aps)/len(aps)"
   ]
  },
  {
   "cell_type": "code",
   "execution_count": 38,
   "id": "62fbac2a-b20b-4700-9ad1-d74dc48d3717",
   "metadata": {
    "tags": []
   },
   "outputs": [],
   "source": [
    "def add_ranks(combination):\n",
    "    combination=combination.sort_values(\"Share\",ascending=False)\n",
    "    combination[\"Rk\"]=list(range(1,combination.shape[0]+1))\n",
    "    combination=combination.sort_values(\"predictions\",ascending=False)\n",
    "    combination[\"Predicted_Rk\"]=list(range(1,combination.shape[0]+1))\n",
    "    combination[\"Diff\"]=combination[\"Rk\"]-combination[\"Predicted_Rk\"]\n",
    "    return combination"
   ]
  },
  {
   "cell_type": "code",
   "execution_count": 40,
   "id": "e94b7aa5-f50f-4111-853a-db5c1f75728e",
   "metadata": {
    "tags": []
   },
   "outputs": [
    {
     "data": {
      "text/html": [
       "<div>\n",
       "<style scoped>\n",
       "    .dataframe tbody tr th:only-of-type {\n",
       "        vertical-align: middle;\n",
       "    }\n",
       "\n",
       "    .dataframe tbody tr th {\n",
       "        vertical-align: top;\n",
       "    }\n",
       "\n",
       "    .dataframe thead th {\n",
       "        text-align: right;\n",
       "    }\n",
       "</style>\n",
       "<table border=\"1\" class=\"dataframe\">\n",
       "  <thead>\n",
       "    <tr style=\"text-align: right;\">\n",
       "      <th></th>\n",
       "      <th>Player</th>\n",
       "      <th>Share</th>\n",
       "      <th>predictions</th>\n",
       "      <th>Rk</th>\n",
       "      <th>Predicted_Rk</th>\n",
       "      <th>Diff</th>\n",
       "    </tr>\n",
       "  </thead>\n",
       "  <tbody>\n",
       "    <tr>\n",
       "      <th>1943</th>\n",
       "      <td>Karl Malone</td>\n",
       "      <td>0.857</td>\n",
       "      <td>0.194160</td>\n",
       "      <td>1</td>\n",
       "      <td>2</td>\n",
       "      <td>-1</td>\n",
       "    </tr>\n",
       "    <tr>\n",
       "      <th>11771</th>\n",
       "      <td>Michael Jordan</td>\n",
       "      <td>0.832</td>\n",
       "      <td>0.170544</td>\n",
       "      <td>2</td>\n",
       "      <td>3</td>\n",
       "      <td>-1</td>\n",
       "    </tr>\n",
       "    <tr>\n",
       "      <th>1133</th>\n",
       "      <td>Grant Hill</td>\n",
       "      <td>0.327</td>\n",
       "      <td>0.132544</td>\n",
       "      <td>3</td>\n",
       "      <td>5</td>\n",
       "      <td>-2</td>\n",
       "    </tr>\n",
       "    <tr>\n",
       "      <th>5411</th>\n",
       "      <td>Tim Hardaway</td>\n",
       "      <td>0.207</td>\n",
       "      <td>0.061164</td>\n",
       "      <td>4</td>\n",
       "      <td>20</td>\n",
       "      <td>-16</td>\n",
       "    </tr>\n",
       "    <tr>\n",
       "      <th>9378</th>\n",
       "      <td>Glen Rice</td>\n",
       "      <td>0.117</td>\n",
       "      <td>0.034557</td>\n",
       "      <td>5</td>\n",
       "      <td>51</td>\n",
       "      <td>-46</td>\n",
       "    </tr>\n",
       "  </tbody>\n",
       "</table>\n",
       "</div>"
      ],
      "text/plain": [
       "               Player  Share  predictions  Rk  Predicted_Rk  Diff\n",
       "1943      Karl Malone  0.857     0.194160   1             2    -1\n",
       "11771  Michael Jordan  0.832     0.170544   2             3    -1\n",
       "1133       Grant Hill  0.327     0.132544   3             5    -2\n",
       "5411     Tim Hardaway  0.207     0.061164   4            20   -16\n",
       "9378        Glen Rice  0.117     0.034557   5            51   -46"
      ]
     },
     "execution_count": 40,
     "metadata": {},
     "output_type": "execute_result"
    }
   ],
   "source": [
    "ranking=add_ranks(all_predictions[1])\n",
    "ranking[ranking[\"Rk\"]<6].sort_values(\"Diff\",ascending=False)"
   ]
  },
  {
   "cell_type": "code",
   "execution_count": 53,
   "id": "3e751f28-c8f8-4988-a2ad-9b17840290bf",
   "metadata": {
    "tags": []
   },
   "outputs": [],
   "source": [
    "def backtest(stats,model,year,predictors):\n",
    "    aps=[]\n",
    "    all_predictions=[]\n",
    "    for year in years[5:]:\n",
    "        train=stats[stats[\"Year\"]<year]\n",
    "        test=stats[stats[\"Year\"]==year]\n",
    "        model.fit(train[predictors],train[\"Share\"])\n",
    "        predictions=reg.predict(test[predictors])\n",
    "        predictions=pd.DataFrame(predictions,columns=[\"predictions\"],index=test.index)\n",
    "        combination=pd.concat([test[[\"Player\",\"Share\"]],predictions],axis=1)\n",
    "        combination=add_ranks(combination)\n",
    "        all_predictions.append(combination)\n",
    "        aps.append(find_ap(combination))\n",
    "    return sum(aps)/len(aps),aps,pd.concat(all_predictions)"
   ]
  },
  {
   "cell_type": "code",
   "execution_count": 54,
   "id": "892954a1-e487-4b07-baf6-10c499a12f61",
   "metadata": {
    "tags": []
   },
   "outputs": [],
   "source": [
    "mean_ap,aps,all_predictions=backtest(stats,reg,years[5:],predictors)"
   ]
  },
  {
   "cell_type": "code",
   "execution_count": 55,
   "id": "cf267c89-2221-4083-9b13-701fbdf88151",
   "metadata": {
    "tags": []
   },
   "outputs": [
    {
     "data": {
      "text/html": [
       "<div>\n",
       "<style scoped>\n",
       "    .dataframe tbody tr th:only-of-type {\n",
       "        vertical-align: middle;\n",
       "    }\n",
       "\n",
       "    .dataframe tbody tr th {\n",
       "        vertical-align: top;\n",
       "    }\n",
       "\n",
       "    .dataframe thead th {\n",
       "        text-align: right;\n",
       "    }\n",
       "</style>\n",
       "<table border=\"1\" class=\"dataframe\">\n",
       "  <thead>\n",
       "    <tr style=\"text-align: right;\">\n",
       "      <th></th>\n",
       "      <th>Player</th>\n",
       "      <th>Share</th>\n",
       "      <th>predictions</th>\n",
       "      <th>Rk</th>\n",
       "      <th>Predicted_Rk</th>\n",
       "      <th>Diff</th>\n",
       "    </tr>\n",
       "  </thead>\n",
       "  <tbody>\n",
       "    <tr>\n",
       "      <th>8244</th>\n",
       "      <td>Shaquille O'Neal</td>\n",
       "      <td>0.056</td>\n",
       "      <td>0.214224</td>\n",
       "      <td>9</td>\n",
       "      <td>1</td>\n",
       "      <td>8</td>\n",
       "    </tr>\n",
       "    <tr>\n",
       "      <th>11039</th>\n",
       "      <td>David Robinson</td>\n",
       "      <td>0.508</td>\n",
       "      <td>0.211592</td>\n",
       "      <td>2</td>\n",
       "      <td>2</td>\n",
       "      <td>0</td>\n",
       "    </tr>\n",
       "    <tr>\n",
       "      <th>5711</th>\n",
       "      <td>Hakeem Olajuwon</td>\n",
       "      <td>0.211</td>\n",
       "      <td>0.205126</td>\n",
       "      <td>4</td>\n",
       "      <td>3</td>\n",
       "      <td>1</td>\n",
       "    </tr>\n",
       "    <tr>\n",
       "      <th>1933</th>\n",
       "      <td>Karl Malone</td>\n",
       "      <td>0.075</td>\n",
       "      <td>0.183691</td>\n",
       "      <td>7</td>\n",
       "      <td>4</td>\n",
       "      <td>3</td>\n",
       "    </tr>\n",
       "    <tr>\n",
       "      <th>11757</th>\n",
       "      <td>Michael Jordan</td>\n",
       "      <td>0.986</td>\n",
       "      <td>0.177949</td>\n",
       "      <td>1</td>\n",
       "      <td>5</td>\n",
       "      <td>-4</td>\n",
       "    </tr>\n",
       "  </tbody>\n",
       "</table>\n",
       "</div>"
      ],
      "text/plain": [
       "                 Player  Share  predictions  Rk  Predicted_Rk  Diff\n",
       "8244   Shaquille O'Neal  0.056     0.214224   9             1     8\n",
       "11039    David Robinson  0.508     0.211592   2             2     0\n",
       "5711    Hakeem Olajuwon  0.211     0.205126   4             3     1\n",
       "1933        Karl Malone  0.075     0.183691   7             4     3\n",
       "11757    Michael Jordan  0.986     0.177949   1             5    -4"
      ]
     },
     "execution_count": 55,
     "metadata": {},
     "output_type": "execute_result"
    }
   ],
   "source": [
    "all_predictions.head()"
   ]
  },
  {
   "cell_type": "code",
   "execution_count": 56,
   "id": "b1ca5372-84d8-42f0-a365-123485454080",
   "metadata": {
    "tags": []
   },
   "outputs": [
    {
     "data": {
      "text/html": [
       "<div>\n",
       "<style scoped>\n",
       "    .dataframe tbody tr th:only-of-type {\n",
       "        vertical-align: middle;\n",
       "    }\n",
       "\n",
       "    .dataframe tbody tr th {\n",
       "        vertical-align: top;\n",
       "    }\n",
       "\n",
       "    .dataframe thead th {\n",
       "        text-align: right;\n",
       "    }\n",
       "</style>\n",
       "<table border=\"1\" class=\"dataframe\">\n",
       "  <thead>\n",
       "    <tr style=\"text-align: right;\">\n",
       "      <th></th>\n",
       "      <th>Player</th>\n",
       "      <th>Share</th>\n",
       "      <th>predictions</th>\n",
       "      <th>Rk</th>\n",
       "      <th>Predicted_Rk</th>\n",
       "      <th>Diff</th>\n",
       "    </tr>\n",
       "  </thead>\n",
       "  <tbody>\n",
       "    <tr>\n",
       "      <th>1567</th>\n",
       "      <td>Jason Kidd</td>\n",
       "      <td>0.712</td>\n",
       "      <td>0.028998</td>\n",
       "      <td>2</td>\n",
       "      <td>55</td>\n",
       "      <td>-53</td>\n",
       "    </tr>\n",
       "    <tr>\n",
       "      <th>9378</th>\n",
       "      <td>Glen Rice</td>\n",
       "      <td>0.117</td>\n",
       "      <td>0.034557</td>\n",
       "      <td>5</td>\n",
       "      <td>51</td>\n",
       "      <td>-46</td>\n",
       "    </tr>\n",
       "    <tr>\n",
       "      <th>5934</th>\n",
       "      <td>Steve Nash</td>\n",
       "      <td>0.839</td>\n",
       "      <td>0.039664</td>\n",
       "      <td>1</td>\n",
       "      <td>42</td>\n",
       "      <td>-41</td>\n",
       "    </tr>\n",
       "    <tr>\n",
       "      <th>14372</th>\n",
       "      <td>Joakim Noah</td>\n",
       "      <td>0.258</td>\n",
       "      <td>0.047022</td>\n",
       "      <td>4</td>\n",
       "      <td>40</td>\n",
       "      <td>-36</td>\n",
       "    </tr>\n",
       "    <tr>\n",
       "      <th>5952</th>\n",
       "      <td>Steve Nash</td>\n",
       "      <td>0.739</td>\n",
       "      <td>0.056164</td>\n",
       "      <td>1</td>\n",
       "      <td>33</td>\n",
       "      <td>-32</td>\n",
       "    </tr>\n",
       "    <tr>\n",
       "      <th>4230</th>\n",
       "      <td>Chauncey Billups</td>\n",
       "      <td>0.344</td>\n",
       "      <td>0.053216</td>\n",
       "      <td>5</td>\n",
       "      <td>35</td>\n",
       "      <td>-30</td>\n",
       "    </tr>\n",
       "    <tr>\n",
       "      <th>1732</th>\n",
       "      <td>Chris Paul</td>\n",
       "      <td>0.138</td>\n",
       "      <td>0.074400</td>\n",
       "      <td>4</td>\n",
       "      <td>33</td>\n",
       "      <td>-29</td>\n",
       "    </tr>\n",
       "    <tr>\n",
       "      <th>14236</th>\n",
       "      <td>Donovan Mitchell</td>\n",
       "      <td>0.030</td>\n",
       "      <td>0.079203</td>\n",
       "      <td>5</td>\n",
       "      <td>26</td>\n",
       "      <td>-21</td>\n",
       "    </tr>\n",
       "    <tr>\n",
       "      <th>5758</th>\n",
       "      <td>Jason Kidd</td>\n",
       "      <td>0.135</td>\n",
       "      <td>0.021076</td>\n",
       "      <td>5</td>\n",
       "      <td>25</td>\n",
       "      <td>-20</td>\n",
       "    </tr>\n",
       "    <tr>\n",
       "      <th>5967</th>\n",
       "      <td>Steve Nash</td>\n",
       "      <td>0.785</td>\n",
       "      <td>0.076723</td>\n",
       "      <td>2</td>\n",
       "      <td>21</td>\n",
       "      <td>-19</td>\n",
       "    </tr>\n",
       "  </tbody>\n",
       "</table>\n",
       "</div>"
      ],
      "text/plain": [
       "                 Player  Share  predictions  Rk  Predicted_Rk  Diff\n",
       "1567         Jason Kidd  0.712     0.028998   2            55   -53\n",
       "9378          Glen Rice  0.117     0.034557   5            51   -46\n",
       "5934         Steve Nash  0.839     0.039664   1            42   -41\n",
       "14372       Joakim Noah  0.258     0.047022   4            40   -36\n",
       "5952         Steve Nash  0.739     0.056164   1            33   -32\n",
       "4230   Chauncey Billups  0.344     0.053216   5            35   -30\n",
       "1732         Chris Paul  0.138     0.074400   4            33   -29\n",
       "14236  Donovan Mitchell  0.030     0.079203   5            26   -21\n",
       "5758         Jason Kidd  0.135     0.021076   5            25   -20\n",
       "5967         Steve Nash  0.785     0.076723   2            21   -19"
      ]
     },
     "execution_count": 56,
     "metadata": {},
     "output_type": "execute_result"
    }
   ],
   "source": [
    "all_predictions[all_predictions[\"Rk\"]<6].sort_values(\"Diff\").head(10)"
   ]
  },
  {
   "cell_type": "code",
   "execution_count": 57,
   "id": "df5d734c-f010-4332-937a-dd0ed9e07be8",
   "metadata": {
    "tags": []
   },
   "outputs": [
    {
     "data": {
      "text/plain": [
       "array([ 2.80348960e-04,  8.30039216e-05,  6.63836428e-06, -3.50509625e-03,\n",
       "       -1.28246818e-03,  6.38341791e-03, -1.80119936e-01,  3.42631527e-03,\n",
       "       -1.08812152e-02, -9.43419092e-03,  1.60103856e-02, -1.51156570e-02,\n",
       "        1.17095445e-02,  1.17578461e-01, -6.75038593e-03,  1.21608671e-02,\n",
       "       -5.31665642e-03,  1.59105247e-02,  2.93751803e-02, -2.28242209e-02,\n",
       "        5.60833905e-03,  1.22919003e-02,  1.11941944e-02, -8.36648497e-03,\n",
       "       -3.00681316e-03,  5.76970954e-03, -2.13196450e-04, -3.12053086e-04,\n",
       "        2.03847330e-04,  1.14910021e-01,  2.45906178e-04, -7.02556412e-04,\n",
       "        1.75170202e-04, -6.13459454e-04])"
      ]
     },
     "execution_count": 57,
     "metadata": {},
     "output_type": "execute_result"
    }
   ],
   "source": [
    "reg.coef_"
   ]
  },
  {
   "cell_type": "code",
   "execution_count": 59,
   "id": "fd5676e3-3920-4379-8e8a-cc6359bf6306",
   "metadata": {
    "tags": []
   },
   "outputs": [
    {
     "data": {
      "text/html": [
       "<div>\n",
       "<style scoped>\n",
       "    .dataframe tbody tr th:only-of-type {\n",
       "        vertical-align: middle;\n",
       "    }\n",
       "\n",
       "    .dataframe tbody tr th {\n",
       "        vertical-align: top;\n",
       "    }\n",
       "\n",
       "    .dataframe thead th {\n",
       "        text-align: right;\n",
       "    }\n",
       "</style>\n",
       "<table border=\"1\" class=\"dataframe\">\n",
       "  <thead>\n",
       "    <tr style=\"text-align: right;\">\n",
       "      <th></th>\n",
       "      <th>0</th>\n",
       "      <th>1</th>\n",
       "    </tr>\n",
       "  </thead>\n",
       "  <tbody>\n",
       "    <tr>\n",
       "      <th>13</th>\n",
       "      <td>0.117578</td>\n",
       "      <td>eFG%</td>\n",
       "    </tr>\n",
       "    <tr>\n",
       "      <th>29</th>\n",
       "      <td>0.114910</td>\n",
       "      <td>W/L%</td>\n",
       "    </tr>\n",
       "    <tr>\n",
       "      <th>18</th>\n",
       "      <td>0.029375</td>\n",
       "      <td>DRB</td>\n",
       "    </tr>\n",
       "    <tr>\n",
       "      <th>10</th>\n",
       "      <td>0.016010</td>\n",
       "      <td>2P</td>\n",
       "    </tr>\n",
       "    <tr>\n",
       "      <th>17</th>\n",
       "      <td>0.015911</td>\n",
       "      <td>ORB</td>\n",
       "    </tr>\n",
       "    <tr>\n",
       "      <th>21</th>\n",
       "      <td>0.012292</td>\n",
       "      <td>STL</td>\n",
       "    </tr>\n",
       "    <tr>\n",
       "      <th>15</th>\n",
       "      <td>0.012161</td>\n",
       "      <td>FTA</td>\n",
       "    </tr>\n",
       "    <tr>\n",
       "      <th>12</th>\n",
       "      <td>0.011710</td>\n",
       "      <td>2P%</td>\n",
       "    </tr>\n",
       "    <tr>\n",
       "      <th>22</th>\n",
       "      <td>0.011194</td>\n",
       "      <td>BLK</td>\n",
       "    </tr>\n",
       "    <tr>\n",
       "      <th>5</th>\n",
       "      <td>0.006383</td>\n",
       "      <td>FGA</td>\n",
       "    </tr>\n",
       "    <tr>\n",
       "      <th>25</th>\n",
       "      <td>0.005770</td>\n",
       "      <td>PTS</td>\n",
       "    </tr>\n",
       "    <tr>\n",
       "      <th>20</th>\n",
       "      <td>0.005608</td>\n",
       "      <td>AST</td>\n",
       "    </tr>\n",
       "    <tr>\n",
       "      <th>7</th>\n",
       "      <td>0.003426</td>\n",
       "      <td>3P</td>\n",
       "    </tr>\n",
       "    <tr>\n",
       "      <th>0</th>\n",
       "      <td>0.000280</td>\n",
       "      <td>Age</td>\n",
       "    </tr>\n",
       "    <tr>\n",
       "      <th>30</th>\n",
       "      <td>0.000246</td>\n",
       "      <td>GB</td>\n",
       "    </tr>\n",
       "    <tr>\n",
       "      <th>28</th>\n",
       "      <td>0.000204</td>\n",
       "      <td>L</td>\n",
       "    </tr>\n",
       "    <tr>\n",
       "      <th>32</th>\n",
       "      <td>0.000175</td>\n",
       "      <td>PA/G</td>\n",
       "    </tr>\n",
       "    <tr>\n",
       "      <th>1</th>\n",
       "      <td>0.000083</td>\n",
       "      <td>G</td>\n",
       "    </tr>\n",
       "    <tr>\n",
       "      <th>2</th>\n",
       "      <td>0.000007</td>\n",
       "      <td>GS</td>\n",
       "    </tr>\n",
       "    <tr>\n",
       "      <th>26</th>\n",
       "      <td>-0.000213</td>\n",
       "      <td>Year</td>\n",
       "    </tr>\n",
       "    <tr>\n",
       "      <th>27</th>\n",
       "      <td>-0.000312</td>\n",
       "      <td>W</td>\n",
       "    </tr>\n",
       "    <tr>\n",
       "      <th>33</th>\n",
       "      <td>-0.000613</td>\n",
       "      <td>SRS</td>\n",
       "    </tr>\n",
       "    <tr>\n",
       "      <th>31</th>\n",
       "      <td>-0.000703</td>\n",
       "      <td>PS/G</td>\n",
       "    </tr>\n",
       "    <tr>\n",
       "      <th>4</th>\n",
       "      <td>-0.001282</td>\n",
       "      <td>FG</td>\n",
       "    </tr>\n",
       "    <tr>\n",
       "      <th>24</th>\n",
       "      <td>-0.003007</td>\n",
       "      <td>PF</td>\n",
       "    </tr>\n",
       "    <tr>\n",
       "      <th>3</th>\n",
       "      <td>-0.003505</td>\n",
       "      <td>MP</td>\n",
       "    </tr>\n",
       "    <tr>\n",
       "      <th>16</th>\n",
       "      <td>-0.005317</td>\n",
       "      <td>FT%</td>\n",
       "    </tr>\n",
       "    <tr>\n",
       "      <th>14</th>\n",
       "      <td>-0.006750</td>\n",
       "      <td>FT</td>\n",
       "    </tr>\n",
       "    <tr>\n",
       "      <th>23</th>\n",
       "      <td>-0.008366</td>\n",
       "      <td>TOV</td>\n",
       "    </tr>\n",
       "    <tr>\n",
       "      <th>9</th>\n",
       "      <td>-0.009434</td>\n",
       "      <td>3P%</td>\n",
       "    </tr>\n",
       "    <tr>\n",
       "      <th>8</th>\n",
       "      <td>-0.010881</td>\n",
       "      <td>3PA</td>\n",
       "    </tr>\n",
       "    <tr>\n",
       "      <th>11</th>\n",
       "      <td>-0.015116</td>\n",
       "      <td>2PA</td>\n",
       "    </tr>\n",
       "    <tr>\n",
       "      <th>19</th>\n",
       "      <td>-0.022824</td>\n",
       "      <td>TRB</td>\n",
       "    </tr>\n",
       "    <tr>\n",
       "      <th>6</th>\n",
       "      <td>-0.180120</td>\n",
       "      <td>FG%</td>\n",
       "    </tr>\n",
       "  </tbody>\n",
       "</table>\n",
       "</div>"
      ],
      "text/plain": [
       "           0     1\n",
       "13  0.117578  eFG%\n",
       "29  0.114910  W/L%\n",
       "18  0.029375   DRB\n",
       "10  0.016010    2P\n",
       "17  0.015911   ORB\n",
       "21  0.012292   STL\n",
       "15  0.012161   FTA\n",
       "12  0.011710   2P%\n",
       "22  0.011194   BLK\n",
       "5   0.006383   FGA\n",
       "25  0.005770   PTS\n",
       "20  0.005608   AST\n",
       "7   0.003426    3P\n",
       "0   0.000280   Age\n",
       "30  0.000246    GB\n",
       "28  0.000204     L\n",
       "32  0.000175  PA/G\n",
       "1   0.000083     G\n",
       "2   0.000007    GS\n",
       "26 -0.000213  Year\n",
       "27 -0.000312     W\n",
       "33 -0.000613   SRS\n",
       "31 -0.000703  PS/G\n",
       "4  -0.001282    FG\n",
       "24 -0.003007    PF\n",
       "3  -0.003505    MP\n",
       "16 -0.005317   FT%\n",
       "14 -0.006750    FT\n",
       "23 -0.008366   TOV\n",
       "9  -0.009434   3P%\n",
       "8  -0.010881   3PA\n",
       "11 -0.015116   2PA\n",
       "19 -0.022824   TRB\n",
       "6  -0.180120   FG%"
      ]
     },
     "execution_count": 59,
     "metadata": {},
     "output_type": "execute_result"
    }
   ],
   "source": [
    "pd.concat([pd.Series(reg.coef_),pd.Series(predictors)],axis=1).sort_values(0,ascending=False)"
   ]
  },
  {
   "cell_type": "code",
   "execution_count": 60,
   "id": "59c0beaf-9b6b-4248-9a2b-efb1ab8ff5ac",
   "metadata": {
    "tags": []
   },
   "outputs": [],
   "source": [
    "stat_ratios=stats[[\"PTS\",\"AST\",\"STL\",\"BLK\",\"3P\",\"Year\"]].groupby(\"Year\").apply(lambda x:x/x.mean())"
   ]
  },
  {
   "cell_type": "code",
   "execution_count": 66,
   "id": "ba7994dd-229e-4fc3-b14d-dde9e4917246",
   "metadata": {
    "tags": []
   },
   "outputs": [
    {
     "data": {
      "text/html": [
       "<div>\n",
       "<style scoped>\n",
       "    .dataframe tbody tr th:only-of-type {\n",
       "        vertical-align: middle;\n",
       "    }\n",
       "\n",
       "    .dataframe tbody tr th {\n",
       "        vertical-align: top;\n",
       "    }\n",
       "\n",
       "    .dataframe thead th {\n",
       "        text-align: right;\n",
       "    }\n",
       "</style>\n",
       "<table border=\"1\" class=\"dataframe\">\n",
       "  <thead>\n",
       "    <tr style=\"text-align: right;\">\n",
       "      <th></th>\n",
       "      <th>PTS</th>\n",
       "      <th>AST</th>\n",
       "      <th>STL</th>\n",
       "      <th>BLK</th>\n",
       "      <th>3P</th>\n",
       "      <th>Year</th>\n",
       "    </tr>\n",
       "  </thead>\n",
       "  <tbody>\n",
       "    <tr>\n",
       "      <th>0</th>\n",
       "      <td>1.013334</td>\n",
       "      <td>0.420714</td>\n",
       "      <td>0.961127</td>\n",
       "      <td>0.673469</td>\n",
       "      <td>0.508587</td>\n",
       "      <td>1.0</td>\n",
       "    </tr>\n",
       "    <tr>\n",
       "      <th>1</th>\n",
       "      <td>1.614653</td>\n",
       "      <td>1.028412</td>\n",
       "      <td>1.647646</td>\n",
       "      <td>0.673469</td>\n",
       "      <td>4.577279</td>\n",
       "      <td>1.0</td>\n",
       "    </tr>\n",
       "    <tr>\n",
       "      <th>2</th>\n",
       "      <td>0.311795</td>\n",
       "      <td>0.093492</td>\n",
       "      <td>0.274608</td>\n",
       "      <td>1.571429</td>\n",
       "      <td>0.000000</td>\n",
       "      <td>1.0</td>\n",
       "    </tr>\n",
       "    <tr>\n",
       "      <th>3</th>\n",
       "      <td>0.200440</td>\n",
       "      <td>0.186984</td>\n",
       "      <td>0.274608</td>\n",
       "      <td>0.000000</td>\n",
       "      <td>0.000000</td>\n",
       "      <td>1.0</td>\n",
       "    </tr>\n",
       "    <tr>\n",
       "      <th>4</th>\n",
       "      <td>2.383005</td>\n",
       "      <td>1.636110</td>\n",
       "      <td>1.784950</td>\n",
       "      <td>0.897959</td>\n",
       "      <td>1.525760</td>\n",
       "      <td>1.0</td>\n",
       "    </tr>\n",
       "    <tr>\n",
       "      <th>...</th>\n",
       "      <td>...</td>\n",
       "      <td>...</td>\n",
       "      <td>...</td>\n",
       "      <td>...</td>\n",
       "      <td>...</td>\n",
       "      <td>...</td>\n",
       "    </tr>\n",
       "    <tr>\n",
       "      <th>14261</th>\n",
       "      <td>1.448372</td>\n",
       "      <td>1.998602</td>\n",
       "      <td>1.522176</td>\n",
       "      <td>0.993056</td>\n",
       "      <td>2.550725</td>\n",
       "      <td>1.0</td>\n",
       "    </tr>\n",
       "    <tr>\n",
       "      <th>14262</th>\n",
       "      <td>0.047488</td>\n",
       "      <td>0.000000</td>\n",
       "      <td>0.169131</td>\n",
       "      <td>0.000000</td>\n",
       "      <td>0.106280</td>\n",
       "      <td>1.0</td>\n",
       "    </tr>\n",
       "    <tr>\n",
       "      <th>14263</th>\n",
       "      <td>0.949752</td>\n",
       "      <td>0.899371</td>\n",
       "      <td>0.507392</td>\n",
       "      <td>0.248264</td>\n",
       "      <td>2.444444</td>\n",
       "      <td>1.0</td>\n",
       "    </tr>\n",
       "    <tr>\n",
       "      <th>14264</th>\n",
       "      <td>0.391773</td>\n",
       "      <td>0.499651</td>\n",
       "      <td>0.338261</td>\n",
       "      <td>0.744792</td>\n",
       "      <td>0.000000</td>\n",
       "      <td>1.0</td>\n",
       "    </tr>\n",
       "    <tr>\n",
       "      <th>14265</th>\n",
       "      <td>0.237438</td>\n",
       "      <td>0.749476</td>\n",
       "      <td>0.000000</td>\n",
       "      <td>0.000000</td>\n",
       "      <td>0.000000</td>\n",
       "      <td>1.0</td>\n",
       "    </tr>\n",
       "  </tbody>\n",
       "</table>\n",
       "<p>15808 rows × 6 columns</p>\n",
       "</div>"
      ],
      "text/plain": [
       "            PTS       AST       STL       BLK        3P  Year\n",
       "0      1.013334  0.420714  0.961127  0.673469  0.508587   1.0\n",
       "1      1.614653  1.028412  1.647646  0.673469  4.577279   1.0\n",
       "2      0.311795  0.093492  0.274608  1.571429  0.000000   1.0\n",
       "3      0.200440  0.186984  0.274608  0.000000  0.000000   1.0\n",
       "4      2.383005  1.636110  1.784950  0.897959  1.525760   1.0\n",
       "...         ...       ...       ...       ...       ...   ...\n",
       "14261  1.448372  1.998602  1.522176  0.993056  2.550725   1.0\n",
       "14262  0.047488  0.000000  0.169131  0.000000  0.106280   1.0\n",
       "14263  0.949752  0.899371  0.507392  0.248264  2.444444   1.0\n",
       "14264  0.391773  0.499651  0.338261  0.744792  0.000000   1.0\n",
       "14265  0.237438  0.749476  0.000000  0.000000  0.000000   1.0\n",
       "\n",
       "[15808 rows x 6 columns]"
      ]
     },
     "execution_count": 66,
     "metadata": {},
     "output_type": "execute_result"
    }
   ],
   "source": [
    "stat_ratios"
   ]
  },
  {
   "cell_type": "code",
   "execution_count": 67,
   "id": "0812b29d-e38b-43bd-9e63-0b38924f2145",
   "metadata": {
    "tags": []
   },
   "outputs": [],
   "source": [
    "stats[[\"PTS_T\",\"AST_R\",\"STL_R\",\"BLK_R\",\"3P_R\"]]=stat_ratios[[\"PTS\",\"AST\",\"STL\",\"BLK\",\"3P\"]]"
   ]
  },
  {
   "cell_type": "code",
   "execution_count": 68,
   "id": "aecbcd56-211e-4a62-b1b2-d56c936e947a",
   "metadata": {
    "tags": []
   },
   "outputs": [
    {
     "data": {
      "text/html": [
       "<div>\n",
       "<style scoped>\n",
       "    .dataframe tbody tr th:only-of-type {\n",
       "        vertical-align: middle;\n",
       "    }\n",
       "\n",
       "    .dataframe tbody tr th {\n",
       "        vertical-align: top;\n",
       "    }\n",
       "\n",
       "    .dataframe thead th {\n",
       "        text-align: right;\n",
       "    }\n",
       "</style>\n",
       "<table border=\"1\" class=\"dataframe\">\n",
       "  <thead>\n",
       "    <tr style=\"text-align: right;\">\n",
       "      <th></th>\n",
       "      <th>Player</th>\n",
       "      <th>Pos</th>\n",
       "      <th>Age</th>\n",
       "      <th>Tm</th>\n",
       "      <th>G</th>\n",
       "      <th>GS</th>\n",
       "      <th>MP</th>\n",
       "      <th>FG</th>\n",
       "      <th>FGA</th>\n",
       "      <th>FG%</th>\n",
       "      <th>...</th>\n",
       "      <th>W/L%</th>\n",
       "      <th>GB</th>\n",
       "      <th>PS/G</th>\n",
       "      <th>PA/G</th>\n",
       "      <th>SRS</th>\n",
       "      <th>PTS_T</th>\n",
       "      <th>AST_R</th>\n",
       "      <th>STL_R</th>\n",
       "      <th>BLK_R</th>\n",
       "      <th>3P_R</th>\n",
       "    </tr>\n",
       "  </thead>\n",
       "  <tbody>\n",
       "    <tr>\n",
       "      <th>0</th>\n",
       "      <td>A.C. Green</td>\n",
       "      <td>PF</td>\n",
       "      <td>27</td>\n",
       "      <td>LAL</td>\n",
       "      <td>82</td>\n",
       "      <td>21</td>\n",
       "      <td>26.4</td>\n",
       "      <td>3.1</td>\n",
       "      <td>6.6</td>\n",
       "      <td>0.476</td>\n",
       "      <td>...</td>\n",
       "      <td>0.707</td>\n",
       "      <td>5.0</td>\n",
       "      <td>106.3</td>\n",
       "      <td>99.6</td>\n",
       "      <td>6.73</td>\n",
       "      <td>1.013334</td>\n",
       "      <td>0.420714</td>\n",
       "      <td>0.961127</td>\n",
       "      <td>0.673469</td>\n",
       "      <td>0.508587</td>\n",
       "    </tr>\n",
       "    <tr>\n",
       "      <th>1</th>\n",
       "      <td>Byron Scott</td>\n",
       "      <td>SG</td>\n",
       "      <td>29</td>\n",
       "      <td>LAL</td>\n",
       "      <td>82</td>\n",
       "      <td>82</td>\n",
       "      <td>32.1</td>\n",
       "      <td>6.1</td>\n",
       "      <td>12.8</td>\n",
       "      <td>0.477</td>\n",
       "      <td>...</td>\n",
       "      <td>0.707</td>\n",
       "      <td>5.0</td>\n",
       "      <td>106.3</td>\n",
       "      <td>99.6</td>\n",
       "      <td>6.73</td>\n",
       "      <td>1.614653</td>\n",
       "      <td>1.028412</td>\n",
       "      <td>1.647646</td>\n",
       "      <td>0.673469</td>\n",
       "      <td>4.577279</td>\n",
       "    </tr>\n",
       "    <tr>\n",
       "      <th>2</th>\n",
       "      <td>Elden Campbell</td>\n",
       "      <td>PF</td>\n",
       "      <td>22</td>\n",
       "      <td>LAL</td>\n",
       "      <td>52</td>\n",
       "      <td>0</td>\n",
       "      <td>7.3</td>\n",
       "      <td>1.1</td>\n",
       "      <td>2.4</td>\n",
       "      <td>0.455</td>\n",
       "      <td>...</td>\n",
       "      <td>0.707</td>\n",
       "      <td>5.0</td>\n",
       "      <td>106.3</td>\n",
       "      <td>99.6</td>\n",
       "      <td>6.73</td>\n",
       "      <td>0.311795</td>\n",
       "      <td>0.093492</td>\n",
       "      <td>0.274608</td>\n",
       "      <td>1.571429</td>\n",
       "      <td>0.000000</td>\n",
       "    </tr>\n",
       "    <tr>\n",
       "      <th>3</th>\n",
       "      <td>Irving Thomas</td>\n",
       "      <td>PF</td>\n",
       "      <td>25</td>\n",
       "      <td>LAL</td>\n",
       "      <td>26</td>\n",
       "      <td>0</td>\n",
       "      <td>4.2</td>\n",
       "      <td>0.7</td>\n",
       "      <td>1.9</td>\n",
       "      <td>0.340</td>\n",
       "      <td>...</td>\n",
       "      <td>0.707</td>\n",
       "      <td>5.0</td>\n",
       "      <td>106.3</td>\n",
       "      <td>99.6</td>\n",
       "      <td>6.73</td>\n",
       "      <td>0.200440</td>\n",
       "      <td>0.186984</td>\n",
       "      <td>0.274608</td>\n",
       "      <td>0.000000</td>\n",
       "      <td>0.000000</td>\n",
       "    </tr>\n",
       "    <tr>\n",
       "      <th>4</th>\n",
       "      <td>James Worthy</td>\n",
       "      <td>SF</td>\n",
       "      <td>29</td>\n",
       "      <td>LAL</td>\n",
       "      <td>78</td>\n",
       "      <td>74</td>\n",
       "      <td>38.6</td>\n",
       "      <td>9.2</td>\n",
       "      <td>18.7</td>\n",
       "      <td>0.492</td>\n",
       "      <td>...</td>\n",
       "      <td>0.707</td>\n",
       "      <td>5.0</td>\n",
       "      <td>106.3</td>\n",
       "      <td>99.6</td>\n",
       "      <td>6.73</td>\n",
       "      <td>2.383005</td>\n",
       "      <td>1.636110</td>\n",
       "      <td>1.784950</td>\n",
       "      <td>0.897959</td>\n",
       "      <td>1.525760</td>\n",
       "    </tr>\n",
       "  </tbody>\n",
       "</table>\n",
       "<p>5 rows × 46 columns</p>\n",
       "</div>"
      ],
      "text/plain": [
       "           Player Pos  Age   Tm   G  GS    MP   FG   FGA    FG%  ...   W/L%  \\\n",
       "0      A.C. Green  PF   27  LAL  82  21  26.4  3.1   6.6  0.476  ...  0.707   \n",
       "1     Byron Scott  SG   29  LAL  82  82  32.1  6.1  12.8  0.477  ...  0.707   \n",
       "2  Elden Campbell  PF   22  LAL  52   0   7.3  1.1   2.4  0.455  ...  0.707   \n",
       "3   Irving Thomas  PF   25  LAL  26   0   4.2  0.7   1.9  0.340  ...  0.707   \n",
       "4    James Worthy  SF   29  LAL  78  74  38.6  9.2  18.7  0.492  ...  0.707   \n",
       "\n",
       "    GB   PS/G  PA/G   SRS     PTS_T     AST_R     STL_R     BLK_R      3P_R  \n",
       "0  5.0  106.3  99.6  6.73  1.013334  0.420714  0.961127  0.673469  0.508587  \n",
       "1  5.0  106.3  99.6  6.73  1.614653  1.028412  1.647646  0.673469  4.577279  \n",
       "2  5.0  106.3  99.6  6.73  0.311795  0.093492  0.274608  1.571429  0.000000  \n",
       "3  5.0  106.3  99.6  6.73  0.200440  0.186984  0.274608  0.000000  0.000000  \n",
       "4  5.0  106.3  99.6  6.73  2.383005  1.636110  1.784950  0.897959  1.525760  \n",
       "\n",
       "[5 rows x 46 columns]"
      ]
     },
     "execution_count": 68,
     "metadata": {},
     "output_type": "execute_result"
    }
   ],
   "source": [
    "stats.head()"
   ]
  },
  {
   "cell_type": "code",
   "execution_count": 69,
   "id": "ebd0679b-153d-4b1e-9c7d-727626a40873",
   "metadata": {
    "tags": []
   },
   "outputs": [],
   "source": [
    "predictors+=[\"PTS_T\",\"AST_R\",\"STL_R\",\"BLK_R\",\"3P_R\"]"
   ]
  },
  {
   "cell_type": "code",
   "execution_count": 70,
   "id": "7557d43e-cd03-4e52-9904-b491be8dd61f",
   "metadata": {
    "tags": []
   },
   "outputs": [],
   "source": [
    "mean_ap,aps,all_predictions=backtest(stats,reg,years[5:],predictors)"
   ]
  },
  {
   "cell_type": "code",
   "execution_count": 71,
   "id": "b044f31e-0322-433e-89f0-8d0c38163059",
   "metadata": {
    "tags": []
   },
   "outputs": [
    {
     "data": {
      "text/plain": [
       "0.6934471822746294"
      ]
     },
     "execution_count": 71,
     "metadata": {},
     "output_type": "execute_result"
    }
   ],
   "source": [
    "mean_ap"
   ]
  },
  {
   "cell_type": "code",
   "execution_count": 72,
   "id": "02788841-ee5f-4985-bafd-0852be1dda98",
   "metadata": {
    "tags": []
   },
   "outputs": [],
   "source": [
    "stats[\"NPos\"]=stats[\"Pos\"].astype(\"category\").cat.codes"
   ]
  },
  {
   "cell_type": "code",
   "execution_count": 73,
   "id": "0be379f1-df5c-4009-9fa2-994fcc98bde0",
   "metadata": {
    "tags": []
   },
   "outputs": [
    {
     "data": {
      "text/html": [
       "<div>\n",
       "<style scoped>\n",
       "    .dataframe tbody tr th:only-of-type {\n",
       "        vertical-align: middle;\n",
       "    }\n",
       "\n",
       "    .dataframe tbody tr th {\n",
       "        vertical-align: top;\n",
       "    }\n",
       "\n",
       "    .dataframe thead th {\n",
       "        text-align: right;\n",
       "    }\n",
       "</style>\n",
       "<table border=\"1\" class=\"dataframe\">\n",
       "  <thead>\n",
       "    <tr style=\"text-align: right;\">\n",
       "      <th></th>\n",
       "      <th>Player</th>\n",
       "      <th>Pos</th>\n",
       "      <th>Age</th>\n",
       "      <th>Tm</th>\n",
       "      <th>G</th>\n",
       "      <th>GS</th>\n",
       "      <th>MP</th>\n",
       "      <th>FG</th>\n",
       "      <th>FGA</th>\n",
       "      <th>FG%</th>\n",
       "      <th>...</th>\n",
       "      <th>GB</th>\n",
       "      <th>PS/G</th>\n",
       "      <th>PA/G</th>\n",
       "      <th>SRS</th>\n",
       "      <th>PTS_T</th>\n",
       "      <th>AST_R</th>\n",
       "      <th>STL_R</th>\n",
       "      <th>BLK_R</th>\n",
       "      <th>3P_R</th>\n",
       "      <th>NPos</th>\n",
       "    </tr>\n",
       "  </thead>\n",
       "  <tbody>\n",
       "    <tr>\n",
       "      <th>0</th>\n",
       "      <td>A.C. Green</td>\n",
       "      <td>PF</td>\n",
       "      <td>27</td>\n",
       "      <td>LAL</td>\n",
       "      <td>82</td>\n",
       "      <td>21</td>\n",
       "      <td>26.4</td>\n",
       "      <td>3.1</td>\n",
       "      <td>6.6</td>\n",
       "      <td>0.476</td>\n",
       "      <td>...</td>\n",
       "      <td>5.0</td>\n",
       "      <td>106.3</td>\n",
       "      <td>99.6</td>\n",
       "      <td>6.73</td>\n",
       "      <td>1.013334</td>\n",
       "      <td>0.420714</td>\n",
       "      <td>0.961127</td>\n",
       "      <td>0.673469</td>\n",
       "      <td>0.508587</td>\n",
       "      <td>2</td>\n",
       "    </tr>\n",
       "    <tr>\n",
       "      <th>1</th>\n",
       "      <td>Byron Scott</td>\n",
       "      <td>SG</td>\n",
       "      <td>29</td>\n",
       "      <td>LAL</td>\n",
       "      <td>82</td>\n",
       "      <td>82</td>\n",
       "      <td>32.1</td>\n",
       "      <td>6.1</td>\n",
       "      <td>12.8</td>\n",
       "      <td>0.477</td>\n",
       "      <td>...</td>\n",
       "      <td>5.0</td>\n",
       "      <td>106.3</td>\n",
       "      <td>99.6</td>\n",
       "      <td>6.73</td>\n",
       "      <td>1.614653</td>\n",
       "      <td>1.028412</td>\n",
       "      <td>1.647646</td>\n",
       "      <td>0.673469</td>\n",
       "      <td>4.577279</td>\n",
       "      <td>12</td>\n",
       "    </tr>\n",
       "    <tr>\n",
       "      <th>2</th>\n",
       "      <td>Elden Campbell</td>\n",
       "      <td>PF</td>\n",
       "      <td>22</td>\n",
       "      <td>LAL</td>\n",
       "      <td>52</td>\n",
       "      <td>0</td>\n",
       "      <td>7.3</td>\n",
       "      <td>1.1</td>\n",
       "      <td>2.4</td>\n",
       "      <td>0.455</td>\n",
       "      <td>...</td>\n",
       "      <td>5.0</td>\n",
       "      <td>106.3</td>\n",
       "      <td>99.6</td>\n",
       "      <td>6.73</td>\n",
       "      <td>0.311795</td>\n",
       "      <td>0.093492</td>\n",
       "      <td>0.274608</td>\n",
       "      <td>1.571429</td>\n",
       "      <td>0.000000</td>\n",
       "      <td>2</td>\n",
       "    </tr>\n",
       "    <tr>\n",
       "      <th>3</th>\n",
       "      <td>Irving Thomas</td>\n",
       "      <td>PF</td>\n",
       "      <td>25</td>\n",
       "      <td>LAL</td>\n",
       "      <td>26</td>\n",
       "      <td>0</td>\n",
       "      <td>4.2</td>\n",
       "      <td>0.7</td>\n",
       "      <td>1.9</td>\n",
       "      <td>0.340</td>\n",
       "      <td>...</td>\n",
       "      <td>5.0</td>\n",
       "      <td>106.3</td>\n",
       "      <td>99.6</td>\n",
       "      <td>6.73</td>\n",
       "      <td>0.200440</td>\n",
       "      <td>0.186984</td>\n",
       "      <td>0.274608</td>\n",
       "      <td>0.000000</td>\n",
       "      <td>0.000000</td>\n",
       "      <td>2</td>\n",
       "    </tr>\n",
       "    <tr>\n",
       "      <th>4</th>\n",
       "      <td>James Worthy</td>\n",
       "      <td>SF</td>\n",
       "      <td>29</td>\n",
       "      <td>LAL</td>\n",
       "      <td>78</td>\n",
       "      <td>74</td>\n",
       "      <td>38.6</td>\n",
       "      <td>9.2</td>\n",
       "      <td>18.7</td>\n",
       "      <td>0.492</td>\n",
       "      <td>...</td>\n",
       "      <td>5.0</td>\n",
       "      <td>106.3</td>\n",
       "      <td>99.6</td>\n",
       "      <td>6.73</td>\n",
       "      <td>2.383005</td>\n",
       "      <td>1.636110</td>\n",
       "      <td>1.784950</td>\n",
       "      <td>0.897959</td>\n",
       "      <td>1.525760</td>\n",
       "      <td>8</td>\n",
       "    </tr>\n",
       "  </tbody>\n",
       "</table>\n",
       "<p>5 rows × 47 columns</p>\n",
       "</div>"
      ],
      "text/plain": [
       "           Player Pos  Age   Tm   G  GS    MP   FG   FGA    FG%  ...   GB  \\\n",
       "0      A.C. Green  PF   27  LAL  82  21  26.4  3.1   6.6  0.476  ...  5.0   \n",
       "1     Byron Scott  SG   29  LAL  82  82  32.1  6.1  12.8  0.477  ...  5.0   \n",
       "2  Elden Campbell  PF   22  LAL  52   0   7.3  1.1   2.4  0.455  ...  5.0   \n",
       "3   Irving Thomas  PF   25  LAL  26   0   4.2  0.7   1.9  0.340  ...  5.0   \n",
       "4    James Worthy  SF   29  LAL  78  74  38.6  9.2  18.7  0.492  ...  5.0   \n",
       "\n",
       "    PS/G  PA/G   SRS     PTS_T     AST_R     STL_R     BLK_R      3P_R  NPos  \n",
       "0  106.3  99.6  6.73  1.013334  0.420714  0.961127  0.673469  0.508587     2  \n",
       "1  106.3  99.6  6.73  1.614653  1.028412  1.647646  0.673469  4.577279    12  \n",
       "2  106.3  99.6  6.73  0.311795  0.093492  0.274608  1.571429  0.000000     2  \n",
       "3  106.3  99.6  6.73  0.200440  0.186984  0.274608  0.000000  0.000000     2  \n",
       "4  106.3  99.6  6.73  2.383005  1.636110  1.784950  0.897959  1.525760     8  \n",
       "\n",
       "[5 rows x 47 columns]"
      ]
     },
     "execution_count": 73,
     "metadata": {},
     "output_type": "execute_result"
    }
   ],
   "source": [
    "stats.head()"
   ]
  },
  {
   "cell_type": "code",
   "execution_count": 74,
   "id": "d2248e2b-80ad-4420-bf36-4f6af003c082",
   "metadata": {
    "tags": []
   },
   "outputs": [],
   "source": [
    "stats[\"NTm\"]=stats[\"Tm\"].astype(\"category\").cat.codes"
   ]
  },
  {
   "cell_type": "code",
   "execution_count": 79,
   "id": "4b9f9758-31d4-44c2-a950-63f09f4d5220",
   "metadata": {
    "tags": []
   },
   "outputs": [],
   "source": [
    "from sklearn.ensemble import RandomForestRegressor\n",
    "rf=RandomForestRegressor(n_estimators=50,random_state=1,min_samples_split=5)\n",
    "\n",
    "mean_ap,aps,all_predictions=backtest(stats,rf,years[28:],predictors)"
   ]
  },
  {
   "cell_type": "code",
   "execution_count": 80,
   "id": "e33119b2-9cff-4891-b5b9-18357c634386",
   "metadata": {
    "tags": []
   },
   "outputs": [
    {
     "data": {
      "text/plain": [
       "0.7315156202496711"
      ]
     },
     "execution_count": 80,
     "metadata": {},
     "output_type": "execute_result"
    }
   ],
   "source": [
    "mean_ap"
   ]
  },
  {
   "cell_type": "code",
   "execution_count": 81,
   "id": "a4dbfb15-0133-4bef-beeb-cc4ef171988d",
   "metadata": {
    "tags": []
   },
   "outputs": [],
   "source": [
    "mean_ap,aps,all_predictions=backtest(stats,reg,years[28:],predictors)"
   ]
  },
  {
   "cell_type": "code",
   "execution_count": 82,
   "id": "adf4bf9b-da7f-4164-8d3b-5d71e8718bad",
   "metadata": {
    "tags": []
   },
   "outputs": [
    {
     "data": {
      "text/plain": [
       "0.6934471822746294"
      ]
     },
     "execution_count": 82,
     "metadata": {},
     "output_type": "execute_result"
    }
   ],
   "source": [
    "mean_ap"
   ]
  },
  {
   "cell_type": "code",
   "execution_count": null,
   "id": "1796fdb7-fa61-4bdf-a5cd-0a2dd0e642b6",
   "metadata": {},
   "outputs": [],
   "source": []
  }
 ],
 "metadata": {
  "kernelspec": {
   "display_name": "Python 3 (ipykernel)",
   "language": "python",
   "name": "python3"
  },
  "language_info": {
   "codemirror_mode": {
    "name": "ipython",
    "version": 3
   },
   "file_extension": ".py",
   "mimetype": "text/x-python",
   "name": "python",
   "nbconvert_exporter": "python",
   "pygments_lexer": "ipython3",
   "version": "3.11.5"
  }
 },
 "nbformat": 4,
 "nbformat_minor": 5
}
